{
 "cells": [
  {
   "cell_type": "markdown",
   "id": "b53f814bab175db9",
   "metadata": {
    "collapsed": false
   },
   "source": [
    "# Collecte de données\n"
   ]
  },
  {
   "cell_type": "code",
   "execution_count": 19,
   "id": "4b98227b9e80e29b",
   "metadata": {
    "collapsed": false,
    "ExecuteTime": {
     "end_time": "2024-03-25T20:15:23.810125Z",
     "start_time": "2024-03-25T20:15:23.676898Z"
    }
   },
   "outputs": [],
   "source": [
    "import os\n",
    "import pandas as pd\n",
    "\n",
    "# === Récupération du type de fichier image associé à chaque pokémon ===\n",
    "lst_files = os.listdir('images/images')\n",
    "lst_files = [f.split('.') for f in lst_files]\n",
    "dico_files = {paire[0]: paire[1] for paire in lst_files}\n",
    "\n",
    "#importation des données depuis un fichier csv\n",
    "with open('images/pokemon.csv', 'r') as csv_file:\n",
    "    # === Pré-traitement des données ===\n",
    "    lines = csv_file.readlines()\n",
    "    lines = lines[1:]  #suppression de la première ligne (entête)\n",
    "\n",
    "    for i, data in enumerate(lines):\n",
    "        data = data.replace('\\n', '')\n",
    "        lines[i] = data.split(',')\n",
    "        if len(lines[i]) == 2:  #si le pokémon n'a qu'un seul type\n",
    "            lines[i].append(None)  #ajout d'une colonne vide pour le second type\n",
    "        #récupération du type de fichier image associé   \n",
    "        lines[i].append(dico_files[lines[i][0]])\n",
    "\n",
    "    # === Création d'un DataFrame ===      \n",
    "    df = pd.DataFrame(lines, columns=[\"name\", \"type1\", \"type2\", \"img_type\"])\n",
    "\n",
    "    csv_file.close()\n",
    "\n",
    "# Export du DataFrame vers un fichier JSON\n",
    "df.to_json('donnees.json', orient='index')"
   ]
  },
  {
   "cell_type": "markdown",
   "id": "d477685c7e4ab3f",
   "metadata": {
    "collapsed": false
   },
   "source": [
    "# Étiquetage et annotation"
   ]
  },
  {
   "cell_type": "code",
   "execution_count": 28,
   "id": "27ebca51dfd316b9",
   "metadata": {
    "collapsed": false,
    "ExecuteTime": {
     "end_time": "2024-03-25T20:35:12.177844Z",
     "start_time": "2024-03-25T20:33:30.236773Z"
    }
   },
   "outputs": [],
   "source": [
    "from PIL import Image\n",
    "import numpy\n",
    "import math\n",
    "import pandas as pd\n",
    "from sklearn.cluster import KMeans\n",
    "\n",
    "import Color as color\n",
    "\n",
    "# /!\\ Attention, cette cellule peut prendre plusieurs minutes à s'exécuter\n",
    "\n",
    "# === chargement des données depuis le fichier JSON ===\n",
    "df = pd.read_json('donnees.json', orient='index')\n",
    "#ajout d'une colonne pour les couleurs dominantes\n",
    "df['colors'] = None\n",
    "\n",
    "# === Traitement des données ===\n",
    "for pokemon in df.iterrows():\n",
    "    img = Image.open(f\"images/images/{pokemon[1]['name']}.{pokemon[1]['img_type']}\")\n",
    "    numarray = numpy.array(img, numpy.uint8)\n",
    "    numarray = numarray.reshape(-1, 9)\n",
    "\n",
    "    # récupération des couleurs dominantes\n",
    "    n_clusters = 5\n",
    "    clusters = KMeans(n_clusters=n_clusters, n_init=20)\n",
    "    clusters.fit(numarray)\n",
    "\n",
    "    couleurs = []\n",
    "    for i in range(len(clusters.cluster_centers_)):\n",
    "        couleurs.append([numpy.sum(clusters.labels_ == i), \"#%02x%02x%02x\" % (\n",
    "            math.ceil(clusters.cluster_centers_[i][0]),\n",
    "            math.ceil(clusters.cluster_centers_[i][1]),\n",
    "            math.ceil(clusters.cluster_centers_[i][2]),\n",
    "        )])\n",
    "\n",
    "    #filtrage des couleurs de fond (blanc pour jpg, noir pour png)\n",
    "    couleurs = sorted(couleurs, key=lambda x: x[0], reverse=True)\n",
    "    if (pokemon[1]['img_type'] == 'jpg') and (color.is_near(couleurs[0][1], '#ffffff', 10, mode='HEX')):\n",
    "        couleurs.pop(0)\n",
    "    elif (pokemon[1]['img_type'] == 'png') and (color.is_near(couleurs[0][1], '#000000', 10, mode='HEX')):\n",
    "        couleurs.pop(0)\n",
    "    else:\n",
    "        couleurs.pop(-1)\n",
    "\n",
    "    #Normalisation des valeurs de quantité de couleurs\n",
    "    sum = 0\n",
    "    for paire in couleurs:\n",
    "        sum += paire[0]\n",
    "    for paire in couleurs:\n",
    "        paire[0] = int((paire[0] / sum) * 100)\n",
    "\n",
    "    # === Ajout des couleurs dominantes au DataFrame ===\n",
    "    df.at[pokemon[0], 'colors'] = couleurs\n",
    "\n",
    "# Export du DataFrame vers le fichier JSON\n",
    "df.to_json('donnees.json', orient='index')"
   ]
  },
  {
   "cell_type": "markdown",
   "id": "4933977b4939df04",
   "metadata": {
    "collapsed": false
   },
   "source": [
    "# Analyses de données\n"
   ]
  },
  {
   "cell_type": "code",
   "execution_count": 29,
   "id": "6faf59222811c17d",
   "metadata": {
    "collapsed": false,
    "ExecuteTime": {
     "end_time": "2024-03-25T20:35:17.707394Z",
     "start_time": "2024-03-25T20:35:14.623697Z"
    }
   },
   "outputs": [
    {
     "data": {
      "text/plain": "GridspecLayout(children=(Image(value=b'\\x89PNG\\r\\n\\x1a\\n\\x00\\x00\\x00\\rIHDR\\x00\\x00\\x00x\\x00\\x00\\x00x\\x08\\x06\\x…",
      "application/vnd.jupyter.widget-view+json": {
       "version_major": 2,
       "version_minor": 0,
       "model_id": "06e5c742f5d644a0bc7fa4cee14c5717"
      }
     },
     "metadata": {},
     "output_type": "display_data"
    },
    {
     "data": {
      "text/plain": "Button(description='Select', style=ButtonStyle())",
      "application/vnd.jupyter.widget-view+json": {
       "version_major": 2,
       "version_minor": 0,
       "model_id": "ee798a202b8d4c20a43429574bb45781"
      }
     },
     "metadata": {},
     "output_type": "display_data"
    },
    {
     "data": {
      "text/plain": "Output()",
      "application/vnd.jupyter.widget-view+json": {
       "version_major": 2,
       "version_minor": 0,
       "model_id": "ad7993edf7154802abd3cb54cecc33bc"
      }
     },
     "metadata": {},
     "output_type": "display_data"
    }
   ],
   "source": [
    "import ipywidgets as widgets\n",
    "from ipywidgets import GridspecLayout, Image, interact\n",
    "import random\n",
    "from IPython.display import display\n",
    "import pandas as pd\n",
    "\n",
    "# === chargement des données depuis le fichier JSON ===\n",
    "df = pd.read_json('donnees.json', orient='index')\n",
    "#ajout d'une colonne pour la variable de préférence\n",
    "df['preferences'] = None\n",
    "\n",
    "\n",
    "# === Function executé lors du click sur le bouton ===\n",
    "def get_selected_images(btn):\n",
    "    # Récupération des identifiants des images sélectionnées\n",
    "    selected_ids = [list_id[i] for i, checkbox in enumerate(checkboxes) if checkbox.value]\n",
    "    # traitement des préférences\n",
    "    with output:\n",
    "        output.clear_output()\n",
    "        for id in list_id:\n",
    "            if id in selected_ids:\n",
    "                preferences(id, 2)  # Appel de la fonction preferences avec la valeur 1\n",
    "            else:\n",
    "                preferences(id, -1)  # Appel de la fonction preferences avec la valeur -0.5\n",
    "\n",
    "        # enregistrement du DataFrame dans le fichier JSON\n",
    "        print(\"Données enregistrés dans le fichier JSON\")\n",
    "        df.to_json('donnees.json', orient='index')\n",
    "\n",
    "\n",
    "# === création du widget d'images et de checkboxes ===       \n",
    "def preferences(image_id, valeur):\n",
    "    # Mise à jour de la variable de préférence\n",
    "    df.at[image_id, 'preferences'] = valeur\n",
    "\n",
    "\n",
    "list_id = []\n",
    "# liste d'identifiants d'images aléatoires (pas de doublons)\n",
    "while len(list_id) < 50:\n",
    "    id = random.randint(0, len(df) - 1)\n",
    "    if id not in list_id:\n",
    "        list_id.append(id)\n",
    "\n",
    "checkboxes = [widgets.Checkbox(value=False, description='Aime') for _ in range(len(list_id))]\n",
    "\n",
    "# Create the GridspecLayout widget\n",
    "layout = GridspecLayout(n_columns=2, n_rows=len(list_id), width='400px')\n",
    "for i, (id, checkbox) in enumerate(zip(list_id, checkboxes)):\n",
    "    image = open(f\"images/images/{df.iloc[id]['name']}.{df.iloc[id]['img_type']}\", \"rb\").read()\n",
    "    image_widget = widgets.Image(\n",
    "        value=image,\n",
    "        format='png',\n",
    "        width=100,\n",
    "        height=100,\n",
    "    )\n",
    "    layout[i, 0] = image_widget\n",
    "    layout[i, 1] = checkbox\n",
    "\n",
    "# Button to get selected images\n",
    "button_select = widgets.Button(description=\"Select\")\n",
    "\n",
    "# Output widget to display selected images\n",
    "output = widgets.Output()\n",
    "\n",
    "# Link button click event to function\n",
    "button_select.on_click(get_selected_images)\n",
    "\n",
    "# Display the layout and button\n",
    "display(layout, button_select, output)\n"
   ]
  },
  {
   "cell_type": "markdown",
   "id": "61e4481d2073b6a9",
   "metadata": {
    "collapsed": false
   },
   "source": [
    "# Visualisation des données"
   ]
  },
  {
   "cell_type": "code",
   "execution_count": 30,
   "id": "eaaaa0d6c0646f8e",
   "metadata": {
    "collapsed": false,
    "ExecuteTime": {
     "end_time": "2024-03-25T20:36:18.425244Z",
     "start_time": "2024-03-25T20:36:16.929285Z"
    }
   },
   "outputs": [
    {
     "data": {
      "text/plain": "<matplotlib.legend.Legend at 0x23afa840fd0>"
     },
     "execution_count": 30,
     "metadata": {},
     "output_type": "execute_result"
    },
    {
     "data": {
      "text/plain": "<Figure size 1200x1000 with 4 Axes>",
      "image/png": "[encoded data removed]"
     },
     "metadata": {},
     "output_type": "display_data"
    }
   ],
   "source": [
    "from PIL import Image\n",
    "import matplotlib.pyplot as plt\n",
    "import pandas as pd\n",
    "\n",
    "import Color as color\n",
    "\n",
    "# === chargement des données depuis le fichier JSON ===\n",
    "df = pd.read_json('donnees.json', orient='index')\n",
    "\n",
    "# === récupération des données à visualiser ===\n",
    "# liste de couleurs de référence\n",
    "lst_color_names = color.name_list()\n",
    "\n",
    "# liste de types de pokémon\n",
    "lst_types = df['type1'].unique()\n",
    "\n",
    "# dico de statistiques pour les couleurs\n",
    "stats_couleurs_generals = {}\n",
    "stats_couleurs_preferences_plus = {}\n",
    "stats_couleurs_preferences_moins = {}\n",
    "# initialisation\n",
    "for val in lst_color_names:\n",
    "    stats_couleurs_generals[val] = 0\n",
    "    stats_couleurs_preferences_plus[val] = 0\n",
    "    stats_couleurs_preferences_moins[val] = 0\n",
    "\n",
    "# dico de statistiques pour les types\n",
    "stats_types_generals = {}\n",
    "stats_types_preferences_plus = {}\n",
    "stats_types_preferences_moins = {}\n",
    "# initialisation\n",
    "for val in lst_types:\n",
    "    stats_types_generals[val] = 0\n",
    "    stats_types_preferences_plus[val] = 0\n",
    "    stats_types_preferences_moins[val] = 0\n",
    "\n",
    "# Boucle de construction des statistiques\n",
    "for pokemon in df.iterrows():\n",
    "    # == statistiques des types ==\n",
    "    # pour les statistiques générales\n",
    "    stats_types_generals[pokemon[1]['type1']] += 1\n",
    "    # pour les statistiques des images choisies pour les préférences\n",
    "    if pokemon[1]['preferences'] == 2:\n",
    "        stats_types_preferences_plus[pokemon[1]['type1']] += 1\n",
    "    # pour les statistiques des images non choisies pour les préférences\n",
    "    elif pokemon[1]['preferences'] == -1:\n",
    "        stats_types_preferences_moins[pokemon[1]['type1']] += 1\n",
    "\n",
    "    if pokemon[1]['type2'] is not None:\n",
    "        # pour les statistiques générales\n",
    "        stats_types_generals[pokemon[1]['type2']] += 1\n",
    "        # pour les statistiques des images choisies pour les préférences\n",
    "        if pokemon[1]['preferences'] == 2:\n",
    "            stats_types_preferences_plus[pokemon[1]['type2']] += 1\n",
    "        # pour les statistiques des images non choisies pour les préférences\n",
    "        elif pokemon[1]['preferences'] == -1:\n",
    "            stats_types_preferences_moins[pokemon[1]['type2']] += 1\n",
    "\n",
    "    # == statistiques des couleurs ==\n",
    "    for pair in pokemon[1]['colors']:\n",
    "        hsv = color.hex_to_hsv(pair[1])\n",
    "        couleur = color.get_color_name(hsv)\n",
    "        # pour les statistiques générales\n",
    "        stats_couleurs_generals[couleur] += 1\n",
    "        # pour les statistiques des images choisies pour les préférences\n",
    "        if pokemon[1]['preferences'] == 2:\n",
    "            stats_couleurs_preferences_plus[couleur] += 1\n",
    "        # pour les statistiques des images non choisies pour les préférences\n",
    "        elif pokemon[1]['preferences'] == -1:\n",
    "            stats_couleurs_preferences_moins[couleur] += 1\n",
    "\n",
    "# === Affichage des statistiques ===\n",
    "fig, axs = plt.subplots(2, 2, figsize=(12, 10))\n",
    "\n",
    "# Graphique 1 : stats_couleurs_generals\n",
    "axs[0, 0].barh(list(stats_couleurs_generals.keys()), list(stats_couleurs_generals.values()))\n",
    "axs[0, 0].set_title('Présences des couleurs (dataset General)')\n",
    "\n",
    "# Graphique 2 : stats_couleurs_preferences_plus et stats_couleurs_preferences_moins\n",
    "keys = list(stats_couleurs_preferences_plus.keys())\n",
    "values_plus = list(stats_couleurs_preferences_plus.values())\n",
    "values_moins = [-val for val in stats_couleurs_preferences_moins.values()]  # Valeurs négatives\n",
    "axs[0, 1].barh(keys, values_moins, color='red', label='Pas aimé')\n",
    "axs[0, 1].barh(keys, values_plus, color='green',\n",
    "               label='Aimé')  # Utilisation de 'left' pour spécifier le point de départ\n",
    "axs[0, 1].set_title('Présences des couleurs (données présélectionnées)')\n",
    "axs[0, 1].legend()\n",
    "\n",
    "# Graphique 3 : stats_types_generals\n",
    "axs[1, 0].barh(list(stats_types_generals.keys()), list(stats_types_generals.values()))\n",
    "axs[1, 0].set_title('Types des pokemons (dataset General)')\n",
    "\n",
    "# Graphique 4 : stats_types_preferences_plus et stats_types_preferences_moins\n",
    "keys = list(stats_types_preferences_plus.keys())\n",
    "values_plus = list(stats_types_preferences_plus.values())\n",
    "values_moins = [-val for val in stats_types_preferences_moins.values()]  # Valeurs négatives\n",
    "axs[1, 1].barh(keys, values_moins, color='red', label='Pas aimé')\n",
    "axs[1, 1].barh(keys, values_plus, color='green',\n",
    "               label='Aimé')  # Utilisation de 'left' pour spécifier le point de départ\n",
    "axs[1, 1].set_title('Types des pokemons (données présélectionnées)')\n",
    "axs[1, 1].legend()"
   ]
  },
  {
   "cell_type": "markdown",
   "id": "b3fb0877e26f4eb1",
   "metadata": {
    "collapsed": false
   },
   "source": [
    "# Système de recommandation\n"
   ]
  },
  {
   "cell_type": "code",
   "outputs": [],
   "source": [
    "import pandas as pd\n",
    "\n",
    "import Color as color\n",
    "\n",
    "# /!\\ Attention, cette cellule peut prendre plusieurs minutes à s'exécuter\n",
    "\n",
    "# === chargement des données depuis le fichier JSON ===\n",
    "df = pd.read_json('donnees.json', orient='index')\n",
    "#ajout d'une colonne pour la variable de possibilité d'aimer\n",
    "df['likeable'] = float(0)\n",
    "\n",
    "\n",
    "# Calcule et renvoie la similarite des types de deux pokemons\n",
    "def type_similarity(pok1, pok2):\n",
    "    # Creation de deux sets regroupants les types de deux pokemons\n",
    "    set1 = {pok1['type1'], pok1['type2']}\n",
    "    set2 = {pok2['type1'], pok2['type2']}\n",
    "\n",
    "    # Calcul de la similarite\n",
    "    similarity = 0.15\n",
    "    if set1.isdisjoint(set2):\n",
    "        similarity -= 0.20\n",
    "    return similarity\n",
    "\n",
    "\n",
    "# Calcule la similarite entre les couleurs dominantes de deux pokemons\n",
    "def color_similarity(pok1, pok2):\n",
    "    # Creation de deux sets regroupants les couleurs principales de deux pokemons\n",
    "    set1 = {pok1['colors'][0][1], pok1['colors'][1][1], pok1['colors'][2][1], pok1['colors'][3][1]}\n",
    "    set2 = {pok2['colors'][0][1], pok2['colors'][1][1], pok2['colors'][2][1], pok2['colors'][3][1]}\n",
    "\n",
    "    # Verification de la similarite des couleurs grace a is_near()\n",
    "    list_bool = []\n",
    "    for color1 in set1:\n",
    "        for color2 in set2:\n",
    "            sim_bool = color.is_near(color1, color2, 30, \"HEX\")\n",
    "            list_bool.append(sim_bool)\n",
    "\n",
    "    # Calcule et renvoie l'indice de similarite\n",
    "    similarity = 0.05 * list_bool.count(True) - 0.05\n",
    "    return similarity\n",
    "\n",
    "\n",
    "# Creation d'une liste contenant tous les pokemons notes auparavant\n",
    "list_pok_notes = []\n",
    "for pokemon in df.iterrows():\n",
    "    if isinstance(pokemon[1]['preferences'], float):\n",
    "        list_pok_notes.append(pokemon)\n",
    "\n",
    "# Traitement des pokemons notes pour ajuster les notes du reste des pokemons\n",
    "# en fonction des criteres d'appreciation detectes\n",
    "for pok1 in list_pok_notes:\n",
    "    for pok2 in df.iterrows():\n",
    "        if pok1[0] != pok2[0]:\n",
    "            similarity_type = type_similarity(pok1[1], pok2[1])\n",
    "            similarity_color = color_similarity(pok1[1], pok2[1])\n",
    "\n",
    "            #pok2[1]['likeable'] += similarity_type + similarity_color\n",
    "            df.at[pok2[0], 'likeable'] += similarity_type + similarity_color\n",
    "\n",
    "# Ecriture des donnees d'appreciation théorique dans le fichier JSON\n",
    "df.to_json('donnees.json', orient='index')"
   ],
   "metadata": {
    "collapsed": false,
    "ExecuteTime": {
     "end_time": "2024-03-25T20:39:09.524551Z",
     "start_time": "2024-03-25T20:36:34.063097Z"
    }
   },
   "id": "7ab3d724e9b536e8",
   "execution_count": 31
  },
  {
   "cell_type": "code",
   "outputs": [
    {
     "data": {
      "text/plain": "GridspecLayout(children=(Image(value=b'\\xff\\xd8\\xff\\xe0\\x00\\x10JFIF\\x00\\x01\\x01\\x02\\x00%\\x00%\\x00\\x00\\xff\\xdb\\…",
      "application/vnd.jupyter.widget-view+json": {
       "version_major": 2,
       "version_minor": 0,
       "model_id": "ad6850716c894caaa540a5071973c7b7"
      }
     },
     "metadata": {},
     "output_type": "display_data"
    }
   ],
   "source": [
    "import ipywidgets as widgets\n",
    "from ipywidgets import GridspecLayout, Image, interact\n",
    "from IPython.display import display\n",
    "\n",
    "# === Affichage des 10 pokémons les plus recommandés (dans l'ordre décroissant) ===\n",
    "# Tri des données par ordre décroissant de la variable 'likeable'\n",
    "df = df.sort_values(by='likeable', ascending=False)\n",
    "\n",
    "# récupération des 10 premiers (non utilisés dans les préférences)\n",
    "df = df[df['preferences'].isnull()].head(10)\n",
    "\n",
    "# Création du widget d'images\n",
    "layout = GridspecLayout(n_columns=2, n_rows=10, width='400px')\n",
    "for i, pokemon in enumerate(df.iterrows()):\n",
    "    image = open(f\"images/images/{pokemon[1]['name']}.{pokemon[1]['img_type']}\", \"rb\").read()\n",
    "    image_widget = widgets.Image(\n",
    "        value=image,\n",
    "        format='png',\n",
    "        width=100,\n",
    "        height=100,\n",
    "    )\n",
    "    layout[i, 0] = image_widget\n",
    "    # Ajout du nom du pokémon et de son numéro\n",
    "    layout[i, 1] = widgets.Label(value=f\"{pokemon[1]['name']} | {pokemon[0]}\")\n",
    "\n",
    "# Display the layout\n",
    "display(layout)\n"
   ],
   "metadata": {
    "collapsed": false,
    "ExecuteTime": {
     "end_time": "2024-03-25T20:39:16.438997Z",
     "start_time": "2024-03-25T20:39:16.204963Z"
    }
   },
   "id": "a29d6b389b3808c5",
   "execution_count": 32
  },
  {
   "cell_type": "markdown",
   "id": "2746f4fcc153f419",
   "metadata": {
    "collapsed": false
   },
   "source": [
    "# Tests"
   ]
  },
  {
   "cell_type": "markdown",
   "id": "f4f9149e9f60d053",
   "metadata": {
    "collapsed": false
   },
   "source": [
    "pass"
   ]
  }
 ],
 "metadata": {
  "kernelspec": {
   "display_name": "Python 3",
   "language": "python",
   "name": "python3"
  },
  "language_info": {
   "codemirror_mode": {
    "name": "ipython",
    "version": 2
   },
   "file_extension": ".py",
   "mimetype": "text/x-python",
   "name": "python",
   "nbconvert_exporter": "python",
   "pygments_lexer": "ipython2",
   "version": "2.7.6"
  }
 },
 "nbformat": 4,
 "nbformat_minor": 5
}
