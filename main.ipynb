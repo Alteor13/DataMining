{
 "cells": [
  {
   "cell_type": "markdown",
   "id": "b53f814bab175db9",
   "metadata": {
    "collapsed": false
   },
   "source": [
    "# Collecte de données\n"
   ]
  },
  {
   "cell_type": "code",
   "execution_count": 2,
   "id": "4b98227b9e80e29b",
   "metadata": {
    "collapsed": false,
    "ExecuteTime": {
     "end_time": "2024-03-25T07:25:51.432301Z",
     "start_time": "2024-03-25T07:25:51.390285Z"
    }
   },
   "outputs": [],
   "source": [
    "import os\n",
    "import pandas as pd\n",
    "\n",
    "# === Récupération du type de fichier image associé à chaque pokémon ===\n",
    "lst_files = os.listdir('images/images')\n",
    "lst_files = [f.split('.') for f in lst_files]\n",
    "dico_files = {paire[0]: paire[1] for paire in lst_files}\n",
    "\n",
    "#importation des données depuis un fichier csv\n",
    "with open('images/pokemon.csv', 'r') as csv_file:\n",
    "\n",
    "    # === Pré-traitement des données ===\n",
    "    lines = csv_file.readlines()\n",
    "    lines = lines[1:] #suppression de la première ligne (entête)\n",
    "    \n",
    "    for i,data in enumerate(lines):\n",
    "        data = data.replace('\\n', '')\n",
    "        lines[i] = data.split(',')\n",
    "        if len(lines[i]) == 2: #si le pokémon n'a qu'un seul type\n",
    "            lines[i].append(None) #ajout d'une colonne vide pour le second type\n",
    "        #récupération du type de fichier image associé   \n",
    "        lines[i].append(dico_files[lines[i][0]])\n",
    "        \n",
    "    # === Création d'un DataFrame ===      \n",
    "    df = pd.DataFrame(lines, columns=[\"name\", \"type1\", \"type2\",\"img_type\"])\n",
    "    \n",
    "    csv_file.close()\n",
    "\n",
    "# Export du DataFrame vers un fichier JSON\n",
    "df.to_json('donnees.json',orient='index')"
   ]
  },
  {
   "cell_type": "markdown",
   "id": "d477685c7e4ab3f",
   "metadata": {
    "collapsed": false
   },
   "source": [
    "# Étiquetage et annotation"
   ]
  },
  {
   "cell_type": "code",
   "execution_count": 32,
   "id": "27ebca51dfd316b9",
   "metadata": {
    "collapsed": false,
    "ExecuteTime": {
     "end_time": "2024-03-25T08:56:47.855675Z",
     "start_time": "2024-03-25T08:54:50.237030Z"
    }
   },
   "outputs": [],
   "source": [
    "from PIL import Image\n",
    "import numpy\n",
    "import math\n",
    "import pandas as pd\n",
    "from sklearn.cluster import KMeans\n",
    "\n",
    "import Color as color\n",
    "\n",
    "# /!\\ Attention, cette cellule peut prendre plusieurs minutes à s'exécuter\n",
    "\n",
    "# === chargement des données depuis le fichier JSON ===\n",
    "df = pd.read_json('donnees.json', orient='index')\n",
    "#ajout d'une colonne pour les couleurs dominantes\n",
    "df['colors'] = None\n",
    "\n",
    "# === Traitement des données ===\n",
    "for pokemon in df.iterrows():\n",
    "    img = Image.open(f\"images/images/{pokemon[1]['name']}.{pokemon[1]['img_type']}\")\n",
    "    numarray = numpy.array(img, numpy.uint8)\n",
    "    numarray = numarray.reshape(-1, 9)\n",
    "\n",
    "    # récupération des couleurs dominantes\n",
    "    n_clusters = 5\n",
    "    clusters = KMeans(n_clusters=n_clusters, n_init=20)\n",
    "    clusters.fit(numarray)\n",
    "\n",
    "    couleurs = []\n",
    "    for i in range(len(clusters.cluster_centers_)):\n",
    "        couleurs.append([numpy.sum(clusters.labels_==i),\"#%02x%02x%02x\" % (\n",
    "            math.ceil(clusters.cluster_centers_[i][0]),\n",
    "            math.ceil(clusters.cluster_centers_[i][1]),\n",
    "            math.ceil(clusters.cluster_centers_[i][2]),\n",
    "        )])\n",
    "    \n",
    "    #filtrage des couleurs de fond (blanc pour jpg, noir pour png)\n",
    "    couleurs = sorted(couleurs, key=lambda x: x[0], reverse=True)\n",
    "    if (pokemon[1]['img_type'] == 'jpg') and (color.is_near(couleurs[0][1], '#ffffff', 5, mode='HEX')):\n",
    "        couleurs.pop(0)\n",
    "    elif (pokemon[1]['img_type'] == 'png') and (color.is_near(couleurs[0][1], '#000000', 5, mode='HEX')):\n",
    "        couleurs.pop(0)\n",
    "    else:\n",
    "        couleurs.pop(-1)\n",
    "\n",
    "    #Normalisation des valeurs de quantité de couleurs\n",
    "    sum = 0\n",
    "    for paire in couleurs:\n",
    "        sum += paire[0]\n",
    "    for paire in couleurs:\n",
    "        paire[0] = int((paire[0] / sum)* 100)\n",
    "\n",
    "    # === Ajout des couleurs dominantes au DataFrame ===\n",
    "    df.at[pokemon[0], 'colors'] = couleurs\n",
    "\n",
    "\n",
    "# Export du DataFrame vers le fichier JSON\n",
    "df.to_json('donnees.json',orient='index')"
   ]
  },
  {
   "cell_type": "markdown",
   "source": [
    "# Analyses de données\n"
   ],
   "metadata": {
    "collapsed": false
   },
   "id": "4933977b4939df04"
  },
  {
   "cell_type": "code",
   "outputs": [
    {
     "data": {
      "text/plain": "GridspecLayout(children=(Image(value=b'\\x89PNG\\r\\n\\x1a\\n\\x00\\x00\\x00\\rIHDR\\x00\\x00\\x00x\\x00\\x00\\x00x\\x08\\x03\\x…",
      "application/vnd.jupyter.widget-view+json": {
       "version_major": 2,
       "version_minor": 0,
       "model_id": "0d03eb2ab2614811b871a82be0212061"
      }
     },
     "metadata": {},
     "output_type": "display_data"
    },
    {
     "data": {
      "text/plain": "Button(description='Select', style=ButtonStyle())",
      "application/vnd.jupyter.widget-view+json": {
       "version_major": 2,
       "version_minor": 0,
       "model_id": "2a3c59cf693c4658b1d1d42580cedf0a"
      }
     },
     "metadata": {},
     "output_type": "display_data"
    },
    {
     "data": {
      "text/plain": "Output()",
      "application/vnd.jupyter.widget-view+json": {
       "version_major": 2,
       "version_minor": 0,
       "model_id": "571d60f1d2bf414db55b455ac15aedad"
      }
     },
     "metadata": {},
     "output_type": "display_data"
    }
   ],
   "source": [
    "import ipywidgets as widgets\n",
    "from ipywidgets import GridspecLayout, Image, interact\n",
    "import random\n",
    "from IPython.display import display\n",
    "import pandas as pd\n",
    "\n",
    "# === chargement des données depuis le fichier JSON ===\n",
    "df = pd.read_json('donnees.json', orient='index')\n",
    "#ajout d'une colonne pour la variable de préférence\n",
    "df['preferences'] = None\n",
    "\n",
    "\n",
    "# Function to get selected images\n",
    "def get_selected_images(btn):\n",
    "    # Récupération des identifiants des images sélectionnées\n",
    "    selected_ids = [list_id[i] for i, checkbox in enumerate(checkboxes) if checkbox.value]\n",
    "    # traitement des préférences\n",
    "    with output:\n",
    "        output.clear_output()\n",
    "        for id in list_id:\n",
    "            if id in selected_ids:\n",
    "                preferences(id, 2)  # Appel de la fonction preferences avec la valeur 1\n",
    "            else:\n",
    "                preferences(id, -1)  # Appel de la fonction preferences avec la valeur -0.5\n",
    "        \n",
    "        # enregistrement du DataFrame dans le fichier JSON\n",
    "        print(\"Données enregistrés dans le fichier JSON\")\n",
    "        df.to_json('donnees.json',orient='index')\n",
    "        \n",
    "    \n",
    "    \n",
    "def preferences(image_id, valeur):\n",
    "    # Mise à jour de la variable de préférence\n",
    "    df.at[image_id, 'preferences'] = valeur\n",
    "    \n",
    "\n",
    "\n",
    "list_id = []\n",
    "# liste d'identifiants d'images aléatoires (pas de doublons)\n",
    "while len(list_id) < 50:\n",
    "    id = random.randint(0, len(df) - 1)\n",
    "    if id not in list_id:\n",
    "        list_id.append(id)\n",
    "               \n",
    "    \n",
    "checkboxes = [widgets.Checkbox(value=False, description='Aime') for _ in range(len(list_id))]\n",
    "\n",
    "# Create the GridspecLayout widget\n",
    "layout = GridspecLayout(n_columns=2, n_rows=len(list_id), width='400px')\n",
    "for i, (id, checkbox) in enumerate(zip(list_id, checkboxes)):\n",
    "    image = open(f\"images/images/{df.iloc[id]['name']}.{df.iloc[id]['img_type']}\", \"rb\").read()\n",
    "    image_widget = widgets.Image(\n",
    "        value=image,\n",
    "        format='png',\n",
    "        width=100,\n",
    "        height=100,\n",
    "    )\n",
    "    layout[i,0] = image_widget\n",
    "    layout[i, 1] = checkbox\n",
    "\n",
    "# Button to get selected images\n",
    "button_select = widgets.Button(description=\"Select\")\n",
    "\n",
    "# Output widget to display selected images\n",
    "output = widgets.Output()\n",
    "\n",
    "\n",
    "# Link button click event to function\n",
    "button_select.on_click(get_selected_images)\n",
    "\n",
    "# Display the layout and button\n",
    "display(layout, button_select, output)\n"
   ],
   "metadata": {
    "collapsed": false,
    "ExecuteTime": {
     "end_time": "2024-03-25T10:03:11.105114Z",
     "start_time": "2024-03-25T10:03:10.448766Z"
    }
   },
   "id": "6faf59222811c17d",
   "execution_count": 9
  },
  {
   "cell_type": "markdown",
   "id": "61e4481d2073b6a9",
   "metadata": {
    "collapsed": false
   },
   "source": [
    "# Visualisation des données"
   ]
  },
  {
   "cell_type": "code",
   "execution_count": null,
   "id": "eaaaa0d6c0646f8e",
   "metadata": {
    "collapsed": false
   },
   "outputs": [],
   "source": [
    "pass"
   ]
  },
  {
   "cell_type": "markdown",
   "id": "b3fb0877e26f4eb1",
   "metadata": {
    "collapsed": false
   },
   "source": [
    "# Système de recommandation"
   ]
  },
  {
   "cell_type": "code",
   "execution_count": null,
   "id": "7ad3a54e1b46e23c",
   "metadata": {
    "collapsed": false
   },
   "outputs": [],
   "source": [
    "pass"
   ]
  },
  {
   "cell_type": "markdown",
   "id": "2746f4fcc153f419",
   "metadata": {
    "collapsed": false
   },
   "source": [
    "# Tests"
   ]
  },
  {
   "cell_type": "markdown",
   "id": "f4f9149e9f60d053",
   "metadata": {
    "collapsed": false
   },
   "source": [
    "pass"
   ]
  }
 ],
 "metadata": {
  "kernelspec": {
   "display_name": "Python 3",
   "language": "python",
   "name": "python3"
  },
  "language_info": {
   "codemirror_mode": {
    "name": "ipython",
    "version": 2
   },
   "file_extension": ".py",
   "mimetype": "text/x-python",
   "name": "python",
   "nbconvert_exporter": "python",
   "pygments_lexer": "ipython2",
   "version": "2.7.6"
  }
 },
 "nbformat": 4,
 "nbformat_minor": 5
}
