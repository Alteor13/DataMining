{
 "cells": [
  {
   "cell_type": "markdown",
   "source": [
    "# Collecte de données\n"
   ],
   "metadata": {
    "collapsed": false
   },
   "id": "b53f814bab175db9"
  },
  {
   "cell_type": "code",
   "outputs": [],
   "source": [
    "import pandas as pd\n",
    "\n",
    "#importation des données depuis un fichier csv\n",
    "with open('images/pokemon.csv', 'r') as csv_file:\n",
    "\n",
    "    # === Pré-traitement des données ===\n",
    "    lines = csv_file.readlines()\n",
    "    \n",
    "    for i,data in enumerate(lines):\n",
    "        data = data.replace('\\n', '')\n",
    "        lines[i] = data.split(',')\n",
    "\n",
    "    # === Création d'un DataFrame ===      \n",
    "    df = pd.DataFrame(lines, columns=[\"name\", \"type1\", \"type2\"])\n",
    "    \n",
    "    csv_file.close()\n",
    "\n",
    "# Export du DataFrame vers un fichier JSON\n",
    "df.to_json('donnees.json',orient='index')"
   ],
   "metadata": {
    "collapsed": false,
    "ExecuteTime": {
     "end_time": "2024-03-18T08:32:53.642146Z",
     "start_time": "2024-03-18T08:32:53.606108Z"
    }
   },
   "id": "4b98227b9e80e29b",
   "execution_count": 32
  },
  {
   "cell_type": "markdown",
   "source": [
    "# Étiquetage et annotation"
   ],
   "metadata": {
    "collapsed": false
   },
   "id": "d477685c7e4ab3f"
  },
  {
   "cell_type": "code",
   "outputs": [],
   "source": [
    "pass"
   ],
   "metadata": {
    "collapsed": false
   },
   "id": "27ebca51dfd316b9"
  },
  {
   "cell_type": "markdown",
   "source": [
    "# Analyses de données"
   ],
   "metadata": {
    "collapsed": false
   },
   "id": "375f82deb57c9b5c"
  },
  {
   "cell_type": "code",
   "outputs": [],
   "source": [
    "pass"
   ],
   "metadata": {
    "collapsed": false
   },
   "id": "57ca297d86d05cd6"
  },
  {
   "cell_type": "markdown",
   "source": [
    "# Visualisation des données"
   ],
   "metadata": {
    "collapsed": false
   },
   "id": "61e4481d2073b6a9"
  },
  {
   "cell_type": "code",
   "outputs": [],
   "source": [
    "pass"
   ],
   "metadata": {
    "collapsed": false
   },
   "id": "eaaaa0d6c0646f8e"
  },
  {
   "cell_type": "markdown",
   "source": [
    "# Système de recommandation"
   ],
   "metadata": {
    "collapsed": false
   },
   "id": "b3fb0877e26f4eb1"
  },
  {
   "cell_type": "code",
   "outputs": [],
   "source": [
    "pass"
   ],
   "metadata": {
    "collapsed": false
   },
   "id": "7ad3a54e1b46e23c"
  },
  {
   "cell_type": "markdown",
   "source": [
    "# Tests"
   ],
   "metadata": {
    "collapsed": false
   },
   "id": "2746f4fcc153f419"
  },
  {
   "cell_type": "markdown",
   "source": [
    "pass"
   ],
   "metadata": {
    "collapsed": false
   },
   "id": "f4f9149e9f60d053"
  }
 ],
 "metadata": {
  "kernelspec": {
   "display_name": "Python 3",
   "language": "python",
   "name": "python3"
  },
  "language_info": {
   "codemirror_mode": {
    "name": "ipython",
    "version": 2
   },
   "file_extension": ".py",
   "mimetype": "text/x-python",
   "name": "python",
   "nbconvert_exporter": "python",
   "pygments_lexer": "ipython2",
   "version": "2.7.6"
  }
 },
 "nbformat": 4,
 "nbformat_minor": 5
}
