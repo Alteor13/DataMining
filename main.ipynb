{
 "cells": [
  {
   "cell_type": "markdown",
   "id": "b53f814bab175db9",
   "metadata": {
    "collapsed": false
   },
   "source": [
    "# Collecte de données\n"
   ]
  },
  {
   "cell_type": "code",
   "execution_count": 39,
   "id": "4b98227b9e80e29b",
   "metadata": {
    "collapsed": false,
    "ExecuteTime": {
     "end_time": "2024-03-25T20:41:25.432815Z",
     "start_time": "2024-03-25T20:41:25.406586Z"
    }
   },
   "outputs": [],
   "source": [
    "import os\n",
    "import pandas as pd\n",
    "\n",
    "# === Récupération du type de fichier image associé à chaque pokémon ===\n",
    "lst_files = os.listdir('images/images')\n",
    "lst_files = [f.split('.') for f in lst_files]\n",
    "dico_files = {paire[0]: paire[1] for paire in lst_files}\n",
    "\n",
    "#importation des données depuis un fichier csv\n",
    "with open('images/pokemon.csv', 'r') as csv_file:\n",
    "    # === Pré-traitement des données ===\n",
    "    lines = csv_file.readlines()\n",
    "    lines = lines[1:]  #suppression de la première ligne (entête)\n",
    "\n",
    "    for i, data in enumerate(lines):\n",
    "        data = data.replace('\\n', '')\n",
    "        lines[i] = data.split(',')\n",
    "        if len(lines[i]) == 2:  #si le pokémon n'a qu'un seul type\n",
    "            lines[i].append(None)  #ajout d'une colonne vide pour le second type\n",
    "        #récupération du type de fichier image associé   \n",
    "        lines[i].append(dico_files[lines[i][0]])\n",
    "\n",
    "    # === Création d'un DataFrame ===      \n",
    "    df = pd.DataFrame(lines, columns=[\"name\", \"type1\", \"type2\", \"img_type\"])\n",
    "\n",
    "    csv_file.close()\n",
    "\n",
    "# Export du DataFrame vers un fichier JSON\n",
    "df.to_json('donnees.json', orient='index')"
   ]
  },
  {
   "cell_type": "markdown",
   "id": "d477685c7e4ab3f",
   "metadata": {
    "collapsed": false
   },
   "source": [
    "# Étiquetage et annotation"
   ]
  },
  {
   "cell_type": "code",
   "execution_count": 40,
   "id": "27ebca51dfd316b9",
   "metadata": {
    "collapsed": false,
    "ExecuteTime": {
     "end_time": "2024-03-25T20:43:11.296187Z",
     "start_time": "2024-03-25T20:41:28.056266Z"
    }
   },
   "outputs": [],
   "source": [
    "from PIL import Image\n",
    "import numpy\n",
    "import math\n",
    "import pandas as pd\n",
    "from sklearn.cluster import KMeans\n",
    "\n",
    "import Color as color\n",
    "\n",
    "# /!\\ Attention, cette cellule peut prendre plusieurs minutes à s'exécuter\n",
    "\n",
    "# === chargement des données depuis le fichier JSON ===\n",
    "df = pd.read_json('donnees.json', orient='index')\n",
    "#ajout d'une colonne pour les couleurs dominantes\n",
    "df['colors'] = None\n",
    "\n",
    "# === Traitement des données ===\n",
    "for pokemon in df.iterrows():\n",
    "    img = Image.open(f\"images/images/{pokemon[1]['name']}.{pokemon[1]['img_type']}\")\n",
    "    numarray = numpy.array(img, numpy.uint8)\n",
    "    numarray = numarray.reshape(-1, 9)\n",
    "\n",
    "    # récupération des couleurs dominantes\n",
    "    n_clusters = 5\n",
    "    clusters = KMeans(n_clusters=n_clusters, n_init=20)\n",
    "    clusters.fit(numarray)\n",
    "\n",
    "    couleurs = []\n",
    "    for i in range(len(clusters.cluster_centers_)):\n",
    "        couleurs.append([numpy.sum(clusters.labels_ == i), \"#%02x%02x%02x\" % (\n",
    "            math.ceil(clusters.cluster_centers_[i][0]),\n",
    "            math.ceil(clusters.cluster_centers_[i][1]),\n",
    "            math.ceil(clusters.cluster_centers_[i][2]),\n",
    "        )])\n",
    "\n",
    "    #filtrage des couleurs de fond (blanc pour jpg, noir pour png)\n",
    "    couleurs = sorted(couleurs, key=lambda x: x[0], reverse=True)\n",
    "    if (pokemon[1]['img_type'] == 'jpg') and (color.is_near(couleurs[0][1], '#ffffff', 10, mode='HEX')):\n",
    "        couleurs.pop(0)\n",
    "    elif (pokemon[1]['img_type'] == 'png') and (color.is_near(couleurs[0][1], '#000000', 10, mode='HEX')):\n",
    "        couleurs.pop(0)\n",
    "    else:\n",
    "        couleurs.pop(-1)\n",
    "\n",
    "    #Normalisation des valeurs de quantité de couleurs\n",
    "    sum = 0\n",
    "    for paire in couleurs:\n",
    "        sum += paire[0]\n",
    "    for paire in couleurs:\n",
    "        paire[0] = int((paire[0] / sum) * 100)\n",
    "\n",
    "    # === Ajout des couleurs dominantes au DataFrame ===\n",
    "    df.at[pokemon[0], 'colors'] = couleurs\n",
    "\n",
    "# Export du DataFrame vers le fichier JSON\n",
    "df.to_json('donnees.json', orient='index')"
   ]
  },
  {
   "cell_type": "markdown",
   "id": "4933977b4939df04",
   "metadata": {
    "collapsed": false
   },
   "source": [
    "# Analyses de données\n"
   ]
  },
  {
   "cell_type": "code",
   "execution_count": 41,
   "id": "6faf59222811c17d",
   "metadata": {
    "collapsed": false,
    "ExecuteTime": {
     "end_time": "2024-03-25T20:43:23.684822Z",
     "start_time": "2024-03-25T20:43:23.417383Z"
    }
   },
   "outputs": [
    {
     "data": {
      "text/plain": "GridspecLayout(children=(Image(value=b'\\x89PNG\\r\\n\\x1a\\n\\x00\\x00\\x00\\rIHDR\\x00\\x00\\x00x\\x00\\x00\\x00x\\x08\\x03\\x…",
      "application/vnd.jupyter.widget-view+json": {
       "version_major": 2,
       "version_minor": 0,
       "model_id": "a4b496d356f74d78ac46f1d1dcb1b074"
      }
     },
     "metadata": {},
     "output_type": "display_data"
    },
    {
     "data": {
      "text/plain": "Button(description='Select', style=ButtonStyle())",
      "application/vnd.jupyter.widget-view+json": {
       "version_major": 2,
       "version_minor": 0,
       "model_id": "e58188c871aa4e6a98b6688368f73185"
      }
     },
     "metadata": {},
     "output_type": "display_data"
    },
    {
     "data": {
      "text/plain": "Output()",
      "application/vnd.jupyter.widget-view+json": {
       "version_major": 2,
       "version_minor": 0,
       "model_id": "06e63231d7774ea6a8342e2d0ee91013"
      }
     },
     "metadata": {},
     "output_type": "display_data"
    }
   ],
   "source": [
    "import ipywidgets as widgets\n",
    "from ipywidgets import GridspecLayout, Image, interact\n",
    "import random\n",
    "from IPython.display import display\n",
    "import pandas as pd\n",
    "\n",
    "# === chargement des données depuis le fichier JSON ===\n",
    "df = pd.read_json('donnees.json', orient='index')\n",
    "#ajout d'une colonne pour la variable de préférence\n",
    "df['preferences'] = None\n",
    "\n",
    "\n",
    "# === Function executé lors du click sur le bouton ===\n",
    "def get_selected_images(btn):\n",
    "    # Récupération des identifiants des images sélectionnées\n",
    "    selected_ids = [list_id[i] for i, checkbox in enumerate(checkboxes) if checkbox.value]\n",
    "    # traitement des préférences\n",
    "    with output:\n",
    "        output.clear_output()\n",
    "        for id in list_id:\n",
    "            if id in selected_ids:\n",
    "                preferences(id, 2)  # Appel de la fonction preferences avec la valeur 1\n",
    "            else:\n",
    "                preferences(id, -1)  # Appel de la fonction preferences avec la valeur -0.5\n",
    "\n",
    "        # enregistrement du DataFrame dans le fichier JSON\n",
    "        print(\"Données enregistrés dans le fichier JSON\")\n",
    "        df.to_json('donnees.json', orient='index')\n",
    "\n",
    "\n",
    "# === création du widget d'images et de checkboxes ===       \n",
    "def preferences(image_id, valeur):\n",
    "    # Mise à jour de la variable de préférence\n",
    "    df.at[image_id, 'preferences'] = valeur\n",
    "\n",
    "\n",
    "list_id = []\n",
    "# liste d'identifiants d'images aléatoires (pas de doublons)\n",
    "while len(list_id) < 50:\n",
    "    id = random.randint(0, len(df) - 1)\n",
    "    if id not in list_id:\n",
    "        list_id.append(id)\n",
    "\n",
    "checkboxes = [widgets.Checkbox(value=False, description='Aime') for _ in range(len(list_id))]\n",
    "\n",
    "# Create the GridspecLayout widget\n",
    "layout = GridspecLayout(n_columns=2, n_rows=len(list_id), width='400px')\n",
    "for i, (id, checkbox) in enumerate(zip(list_id, checkboxes)):\n",
    "    image = open(f\"images/images/{df.iloc[id]['name']}.{df.iloc[id]['img_type']}\", \"rb\").read()\n",
    "    image_widget = widgets.Image(\n",
    "        value=image,\n",
    "        format='png',\n",
    "        width=100,\n",
    "        height=100,\n",
    "    )\n",
    "    layout[i, 0] = image_widget\n",
    "    layout[i, 1] = checkbox\n",
    "\n",
    "# Button to get selected images\n",
    "button_select = widgets.Button(description=\"Select\")\n",
    "\n",
    "# Output widget to display selected images\n",
    "output = widgets.Output()\n",
    "\n",
    "# Link button click event to function\n",
    "button_select.on_click(get_selected_images)\n",
    "\n",
    "# Display the layout and button\n",
    "display(layout, button_select, output)\n"
   ]
  },
  {
   "cell_type": "markdown",
   "id": "61e4481d2073b6a9",
   "metadata": {
    "collapsed": false
   },
   "source": [
    "# Visualisation des données"
   ]
  },
  {
   "cell_type": "code",
   "execution_count": 1,
   "id": "eaaaa0d6c0646f8e",
   "metadata": {
    "collapsed": false,
    "ExecuteTime": {
     "end_time": "2024-03-25T20:47:38.593272Z",
     "start_time": "2024-03-25T20:47:36.792179Z"
    }
   },
   "outputs": [
    {
     "data": {
      "text/plain": "<matplotlib.legend.Legend at 0x1dbab6f3bb0>"
     },
     "execution_count": 1,
     "metadata": {},
     "output_type": "execute_result"
    },
    {
     "data": {
      "text/plain": "<Figure size 1200x1000 with 4 Axes>",
      "image/png": "[encoded data removed]"
     },
     "metadata": {},
     "output_type": "display_data"
    }
   ],
   "source": [
    "from PIL import Image\n",
    "import matplotlib.pyplot as plt\n",
    "import pandas as pd\n",
    "\n",
    "import Color as color\n",
    "\n",
    "# === chargement des données depuis le fichier JSON ===\n",
    "df = pd.read_json('donnees.json', orient='index')\n",
    "\n",
    "# === récupération des données à visualiser ===\n",
    "# liste de couleurs de référence\n",
    "lst_color_names = color.name_list()\n",
    "\n",
    "# liste de types de pokémon\n",
    "lst_types = df['type1'].unique()\n",
    "\n",
    "# dico de statistiques pour les couleurs\n",
    "stats_couleurs_generals = {}\n",
    "stats_couleurs_preferences_plus = {}\n",
    "stats_couleurs_preferences_moins = {}\n",
    "# initialisation\n",
    "for val in lst_color_names:\n",
    "    stats_couleurs_generals[val] = 0\n",
    "    stats_couleurs_preferences_plus[val] = 0\n",
    "    stats_couleurs_preferences_moins[val] = 0\n",
    "\n",
    "# dico de statistiques pour les types\n",
    "stats_types_generals = {}\n",
    "stats_types_preferences_plus = {}\n",
    "stats_types_preferences_moins = {}\n",
    "# initialisation\n",
    "for val in lst_types:\n",
    "    stats_types_generals[val] = 0\n",
    "    stats_types_preferences_plus[val] = 0\n",
    "    stats_types_preferences_moins[val] = 0\n",
    "\n",
    "# Boucle de construction des statistiques\n",
    "for pokemon in df.iterrows():\n",
    "    # == statistiques des types ==\n",
    "    # pour les statistiques générales\n",
    "    stats_types_generals[pokemon[1]['type1']] += 1\n",
    "    # pour les statistiques des images choisies pour les préférences\n",
    "    if pokemon[1]['preferences'] == 2:\n",
    "        stats_types_preferences_plus[pokemon[1]['type1']] += 1\n",
    "    # pour les statistiques des images non choisies pour les préférences\n",
    "    elif pokemon[1]['preferences'] == -1:\n",
    "        stats_types_preferences_moins[pokemon[1]['type1']] += 1\n",
    "\n",
    "    if pokemon[1]['type2'] is not None:\n",
    "        # pour les statistiques générales\n",
    "        stats_types_generals[pokemon[1]['type2']] += 1\n",
    "        # pour les statistiques des images choisies pour les préférences\n",
    "        if pokemon[1]['preferences'] == 2:\n",
    "            stats_types_preferences_plus[pokemon[1]['type2']] += 1\n",
    "        # pour les statistiques des images non choisies pour les préférences\n",
    "        elif pokemon[1]['preferences'] == -1:\n",
    "            stats_types_preferences_moins[pokemon[1]['type2']] += 1\n",
    "\n",
    "    # == statistiques des couleurs ==\n",
    "    for pair in pokemon[1]['colors']:\n",
    "        hsv = color.hex_to_hsv(pair[1])\n",
    "        couleur = color.get_color_name(hsv)\n",
    "        # pour les statistiques générales\n",
    "        stats_couleurs_generals[couleur] += 1\n",
    "        # pour les statistiques des images choisies pour les préférences\n",
    "        if pokemon[1]['preferences'] == 2:\n",
    "            stats_couleurs_preferences_plus[couleur] += 1\n",
    "        # pour les statistiques des images non choisies pour les préférences\n",
    "        elif pokemon[1]['preferences'] == -1:\n",
    "            stats_couleurs_preferences_moins[couleur] += 1\n",
    "\n",
    "# === Affichage des statistiques ===\n",
    "fig, axs = plt.subplots(2, 2, figsize=(12, 10))\n",
    "\n",
    "# Graphique 1 : stats_couleurs_generals\n",
    "axs[0, 0].barh(list(stats_couleurs_generals.keys()), list(stats_couleurs_generals.values()))\n",
    "axs[0, 0].set_title('Présences des couleurs (dataset General)')\n",
    "\n",
    "# Graphique 2 : stats_couleurs_preferences_plus et stats_couleurs_preferences_moins\n",
    "keys = list(stats_couleurs_preferences_plus.keys())\n",
    "values_plus = list(stats_couleurs_preferences_plus.values())\n",
    "values_moins = [-val for val in stats_couleurs_preferences_moins.values()]  # Valeurs négatives\n",
    "axs[0, 1].barh(keys, values_moins, color='red', label='Pas aimé')\n",
    "axs[0, 1].barh(keys, values_plus, color='green',\n",
    "               label='Aimé')  # Utilisation de 'left' pour spécifier le point de départ\n",
    "axs[0, 1].set_title('Présences des couleurs (données présélectionnées)')\n",
    "axs[0, 1].legend()\n",
    "\n",
    "# Graphique 3 : stats_types_generals\n",
    "axs[1, 0].barh(list(stats_types_generals.keys()), list(stats_types_generals.values()))\n",
    "axs[1, 0].set_title('Types des pokemons (dataset General)')\n",
    "\n",
    "# Graphique 4 : stats_types_preferences_plus et stats_types_preferences_moins\n",
    "keys = list(stats_types_preferences_plus.keys())\n",
    "values_plus = list(stats_types_preferences_plus.values())\n",
    "values_moins = [-val for val in stats_types_preferences_moins.values()]  # Valeurs négatives\n",
    "axs[1, 1].barh(keys, values_moins, color='red', label='Pas aimé')\n",
    "axs[1, 1].barh(keys, values_plus, color='green',\n",
    "               label='Aimé')  # Utilisation de 'left' pour spécifier le point de départ\n",
    "axs[1, 1].set_title('Types des pokemons (données présélectionnées)')\n",
    "axs[1, 1].legend()"
   ]
  },
  {
   "cell_type": "markdown",
   "id": "b3fb0877e26f4eb1",
   "metadata": {
    "collapsed": false
   },
   "source": [
    "# Système de recommandation\n"
   ]
  },
  {
   "cell_type": "code",
   "outputs": [
    {
     "name": "stdout",
     "output_type": "stream",
     "text": [
      "-0.9876390605686032\n"
     ]
    },
    {
     "ename": "KeyboardInterrupt",
     "evalue": "",
     "output_type": "error",
     "traceback": [
      "\u001B[1;31m---------------------------------------------------------------------------\u001B[0m",
      "\u001B[1;31mKeyboardInterrupt\u001B[0m                         Traceback (most recent call last)",
      "Cell \u001B[1;32mIn[8], line 60\u001B[0m\n\u001B[0;32m     57\u001B[0m multiple \u001B[38;5;241m=\u001B[39m (\u001B[38;5;241m2\u001B[39m \u001B[38;5;241m*\u001B[39m ratio) \u001B[38;5;28;01mif\u001B[39;00m pok1[\u001B[38;5;241m1\u001B[39m][\u001B[38;5;124m'\u001B[39m\u001B[38;5;124mpreferences\u001B[39m\u001B[38;5;124m'\u001B[39m] \u001B[38;5;241m==\u001B[39m \u001B[38;5;241m2\u001B[39m \u001B[38;5;28;01melse\u001B[39;00m (\u001B[38;5;241m-\u001B[39m\u001B[38;5;241m1\u001B[39m \u001B[38;5;241m*\u001B[39m (\u001B[38;5;241m1\u001B[39m\u001B[38;5;241m-\u001B[39mratio))\n\u001B[0;32m     58\u001B[0m \u001B[38;5;28mprint\u001B[39m(multiple)\n\u001B[1;32m---> 60\u001B[0m \u001B[38;5;28;01mfor\u001B[39;00m pok2 \u001B[38;5;129;01min\u001B[39;00m \u001B[43mdf\u001B[49m\u001B[38;5;241m.\u001B[39miterrows():\n\u001B[0;32m     61\u001B[0m     \u001B[38;5;28;01mif\u001B[39;00m pok1[\u001B[38;5;241m0\u001B[39m] \u001B[38;5;241m!=\u001B[39m pok2[\u001B[38;5;241m0\u001B[39m]:\n\u001B[0;32m     62\u001B[0m         similarity_type \u001B[38;5;241m=\u001B[39m type_similarity(pok1[\u001B[38;5;241m1\u001B[39m], pok2[\u001B[38;5;241m1\u001B[39m])\n",
      "Cell \u001B[1;32mIn[8], line 60\u001B[0m\n\u001B[0;32m     57\u001B[0m multiple \u001B[38;5;241m=\u001B[39m (\u001B[38;5;241m2\u001B[39m \u001B[38;5;241m*\u001B[39m ratio) \u001B[38;5;28;01mif\u001B[39;00m pok1[\u001B[38;5;241m1\u001B[39m][\u001B[38;5;124m'\u001B[39m\u001B[38;5;124mpreferences\u001B[39m\u001B[38;5;124m'\u001B[39m] \u001B[38;5;241m==\u001B[39m \u001B[38;5;241m2\u001B[39m \u001B[38;5;28;01melse\u001B[39;00m (\u001B[38;5;241m-\u001B[39m\u001B[38;5;241m1\u001B[39m \u001B[38;5;241m*\u001B[39m (\u001B[38;5;241m1\u001B[39m\u001B[38;5;241m-\u001B[39mratio))\n\u001B[0;32m     58\u001B[0m \u001B[38;5;28mprint\u001B[39m(multiple)\n\u001B[1;32m---> 60\u001B[0m \u001B[38;5;28;01mfor\u001B[39;00m pok2 \u001B[38;5;129;01min\u001B[39;00m \u001B[43mdf\u001B[49m\u001B[38;5;241m.\u001B[39miterrows():\n\u001B[0;32m     61\u001B[0m     \u001B[38;5;28;01mif\u001B[39;00m pok1[\u001B[38;5;241m0\u001B[39m] \u001B[38;5;241m!=\u001B[39m pok2[\u001B[38;5;241m0\u001B[39m]:\n\u001B[0;32m     62\u001B[0m         similarity_type \u001B[38;5;241m=\u001B[39m type_similarity(pok1[\u001B[38;5;241m1\u001B[39m], pok2[\u001B[38;5;241m1\u001B[39m])\n",
      "File \u001B[1;32m_pydevd_bundle\\pydevd_cython_win32_310_64.pyx:1187\u001B[0m, in \u001B[0;36m_pydevd_bundle.pydevd_cython_win32_310_64.SafeCallWrapper.__call__\u001B[1;34m()\u001B[0m\n",
      "File \u001B[1;32m_pydevd_bundle\\pydevd_cython_win32_310_64.pyx:627\u001B[0m, in \u001B[0;36m_pydevd_bundle.pydevd_cython_win32_310_64.PyDBFrame.trace_dispatch\u001B[1;34m()\u001B[0m\n",
      "File \u001B[1;32m_pydevd_bundle\\pydevd_cython_win32_310_64.pyx:937\u001B[0m, in \u001B[0;36m_pydevd_bundle.pydevd_cython_win32_310_64.PyDBFrame.trace_dispatch\u001B[1;34m()\u001B[0m\n",
      "File \u001B[1;32m_pydevd_bundle\\pydevd_cython_win32_310_64.pyx:928\u001B[0m, in \u001B[0;36m_pydevd_bundle.pydevd_cython_win32_310_64.PyDBFrame.trace_dispatch\u001B[1;34m()\u001B[0m\n",
      "File \u001B[1;32m_pydevd_bundle\\pydevd_cython_win32_310_64.pyx:585\u001B[0m, in \u001B[0;36m_pydevd_bundle.pydevd_cython_win32_310_64.PyDBFrame.do_wait_suspend\u001B[1;34m()\u001B[0m\n",
      "File \u001B[1;32mC:\\Program Files\\JetBrains\\DataSpell 2023.3.3\\plugins\\python-ce\\helpers\\pydev\\pydevd.py:1184\u001B[0m, in \u001B[0;36mPyDB.do_wait_suspend\u001B[1;34m(self, thread, frame, event, arg, send_suspend_message, is_unhandled_exception)\u001B[0m\n\u001B[0;32m   1181\u001B[0m         from_this_thread\u001B[38;5;241m.\u001B[39mappend(frame_id)\n\u001B[0;32m   1183\u001B[0m \u001B[38;5;28;01mwith\u001B[39;00m \u001B[38;5;28mself\u001B[39m\u001B[38;5;241m.\u001B[39m_threads_suspended_single_notification\u001B[38;5;241m.\u001B[39mnotify_thread_suspended(thread_id, stop_reason):\n\u001B[1;32m-> 1184\u001B[0m     \u001B[38;5;28;43mself\u001B[39;49m\u001B[38;5;241;43m.\u001B[39;49m\u001B[43m_do_wait_suspend\u001B[49m\u001B[43m(\u001B[49m\u001B[43mthread\u001B[49m\u001B[43m,\u001B[49m\u001B[43m \u001B[49m\u001B[43mframe\u001B[49m\u001B[43m,\u001B[49m\u001B[43m \u001B[49m\u001B[43mevent\u001B[49m\u001B[43m,\u001B[49m\u001B[43m \u001B[49m\u001B[43marg\u001B[49m\u001B[43m,\u001B[49m\u001B[43m \u001B[49m\u001B[43msuspend_type\u001B[49m\u001B[43m,\u001B[49m\u001B[43m \u001B[49m\u001B[43mfrom_this_thread\u001B[49m\u001B[43m)\u001B[49m\n",
      "File \u001B[1;32mC:\\Program Files\\JetBrains\\DataSpell 2023.3.3\\plugins\\python-ce\\helpers\\pydev\\pydevd.py:1199\u001B[0m, in \u001B[0;36mPyDB._do_wait_suspend\u001B[1;34m(self, thread, frame, event, arg, suspend_type, from_this_thread)\u001B[0m\n\u001B[0;32m   1196\u001B[0m             \u001B[38;5;28mself\u001B[39m\u001B[38;5;241m.\u001B[39m_call_mpl_hook()\n\u001B[0;32m   1198\u001B[0m         \u001B[38;5;28mself\u001B[39m\u001B[38;5;241m.\u001B[39mprocess_internal_commands()\n\u001B[1;32m-> 1199\u001B[0m         \u001B[43mtime\u001B[49m\u001B[38;5;241;43m.\u001B[39;49m\u001B[43msleep\u001B[49m\u001B[43m(\u001B[49m\u001B[38;5;241;43m0.01\u001B[39;49m\u001B[43m)\u001B[49m\n\u001B[0;32m   1201\u001B[0m \u001B[38;5;28mself\u001B[39m\u001B[38;5;241m.\u001B[39mcancel_async_evaluation(get_current_thread_id(thread), \u001B[38;5;28mstr\u001B[39m(\u001B[38;5;28mid\u001B[39m(frame)))\n\u001B[0;32m   1203\u001B[0m \u001B[38;5;66;03m# process any stepping instructions\u001B[39;00m\n",
      "\u001B[1;31mKeyboardInterrupt\u001B[0m: "
     ]
    }
   ],
   "source": [
    "import pandas as pd\n",
    "\n",
    "import Color as color\n",
    "\n",
    "# /!\\ Attention, cette cellule peut prendre plusieurs minutes à s'exécuter\n",
    "\n",
    "# === chargement des données depuis le fichier JSON ===\n",
    "df = pd.read_json('donnees.json', orient='index')\n",
    "#ajout d'une colonne pour la variable de possibilité d'aimer\n",
    "df['likeable'] = float(0)\n",
    "\n",
    "\n",
    "# Calcule et renvoie la similarite des types de deux pokemons\n",
    "def type_similarity(pok1, pok2):\n",
    "    # Creation de deux sets regroupants les types de deux pokemons\n",
    "    set1 = {pok1['type1'], pok1['type2']}\n",
    "    set2 = {pok2['type1'], pok2['type2']}\n",
    "\n",
    "    # Calcul de la similarite\n",
    "    similarity = 0.15\n",
    "    if set1.isdisjoint(set2):\n",
    "        similarity -= 0.20\n",
    "    return similarity\n",
    "\n",
    "\n",
    "# Calcule la similarite entre les couleurs dominantes de deux pokemons\n",
    "def color_similarity(pok1, pok2):\n",
    "    # Creation de deux sets regroupants les couleurs principales de deux pokemons\n",
    "    set1 = {pok1['colors'][0][1], pok1['colors'][1][1], pok1['colors'][2][1], pok1['colors'][3][1]}\n",
    "    set2 = {pok2['colors'][0][1], pok2['colors'][1][1], pok2['colors'][2][1], pok2['colors'][3][1]}\n",
    "\n",
    "    # Verification de la similarite des couleurs grace a is_near()\n",
    "    list_bool = []\n",
    "    for color1 in set1:\n",
    "        for color2 in set2:\n",
    "            sim_bool = color.is_near(color1, color2, 30, \"HEX\")\n",
    "            list_bool.append(sim_bool)\n",
    "\n",
    "    # Calcule et renvoie l'indice de similarite\n",
    "    similarity = 0.05 * list_bool.count(True) - 0.05\n",
    "    return similarity\n",
    "\n",
    "# Variable de ration like dislike\n",
    "ratio = 0\n",
    "# Creation d'une liste contenant tous les pokemons notes auparavant\n",
    "list_pok_notes = []\n",
    "for pokemon in df.iterrows():\n",
    "    if isinstance(pokemon[1]['preferences'], float):\n",
    "        list_pok_notes.append(pokemon)\n",
    "        if pokemon[1]['preferences'] == 2:\n",
    "            ratio += 1\n",
    "ratio /= len(list_pok_notes)\n",
    "\n",
    "# Traitement des pokemons notes pour ajuster les notes du reste des pokemons\n",
    "# en fonction des criteres d'appreciation detectes\n",
    "for pok1 in list_pok_notes:\n",
    "    multiple = (2 * ratio) if pok1[1]['preferences'] == 2 else (-1 * (1-ratio))\n",
    "    print(multiple)\n",
    "        \n",
    "    for pok2 in df.iterrows():\n",
    "        if pok1[0] != pok2[0]:\n",
    "            similarity_type = type_similarity(pok1[1], pok2[1])\n",
    "            similarity_color = color_similarity(pok1[1], pok2[1])\n",
    "\n",
    "            #pok2[1]['likeable'] += similarity_type + similarity_color\n",
    "            df.at[pok2[0], 'likeable'] += (similarity_type + similarity_color) * multiple\n",
    "\n",
    "# Ecriture des donnees d'appreciation théorique dans le fichier JSON\n",
    "df.to_json('donnees.json', orient='index')"
   ],
   "metadata": {
    "collapsed": false,
    "ExecuteTime": {
     "end_time": "2024-03-25T21:16:18.481223Z",
     "start_time": "2024-03-25T21:14:24.034880Z"
    }
   },
   "id": "7ab3d724e9b536e8",
   "execution_count": 8
  },
  {
   "cell_type": "code",
   "outputs": [
    {
     "name": "stdout",
     "output_type": "stream",
     "text": [
      "               name   type1     type2 img_type  \\\n",
      "197         murkrow    Dark    Flying      png   \n",
      "643          zekrom  Dragon  Electric      png   \n",
      "716         yveltal    Dark    Flying      png   \n",
      "499          emboar    Fire  Fighting      png   \n",
      "412  wormadam-plant     Bug     Grass      png   \n",
      "524         boldore    Rock      None      png   \n",
      "318        sharpedo   Water      Dark      png   \n",
      "110         rhyhorn  Ground      Rock      png   \n",
      "759          bewear  Normal  Fighting      png   \n",
      "717      zygarde-50  Dragon    Ground      png   \n",
      "\n",
      "                                                colors  preferences  \\\n",
      "197  [[30, #4d68e1], [26, #ef4754], [21, #23354b], ...          NaN   \n",
      "643  [[27, #394b52], [25, #5ff04d], [23, #5051f0], ...          NaN   \n",
      "716  [[29, #5be870], [26, #3135d6], [23, #5a3a42], ...          NaN   \n",
      "499  [[35, #f09c6d], [24, #3cf38c], [23, #5f32fb], ...          NaN   \n",
      "412  [[34, #8369e0], [23, #386231], [21, #43f33c], ...          NaN   \n",
      "524  [[26, #3e374e], [24, #4ef24e], [24, #f54b3e], ...          NaN   \n",
      "318  [[40, #4578b6], [27, #d1d7db], [16, #f31b66], ...          NaN   \n",
      "110  [[68, #6a6a6a], [13, #626056], [9, #030102], [...          NaN   \n",
      "759  [[35, #dbdfe1], [33, #4f4f9e], [15, #fd5858], ...          NaN   \n",
      "717  [[30, #eb688d], [26, #48ea69], [24, #5f6a41], ...          NaN   \n",
      "\n",
      "       likeable  \n",
      "197  -93.851607  \n",
      "643 -100.958900  \n",
      "716 -126.186897  \n",
      "499 -130.453461  \n",
      "412 -134.428739  \n",
      "524 -136.141038  \n",
      "318 -140.594067  \n",
      "110 -143.377998  \n",
      "759 -146.661867  \n",
      "717 -148.143325  \n"
     ]
    },
    {
     "data": {
      "text/plain": "GridspecLayout(children=(Image(value=b'\\x89PNG\\r\\n\\x1a\\n\\x00\\x00\\x00\\rIHDR\\x00\\x00\\x00x\\x00\\x00\\x00x\\x08\\x06\\x…",
      "application/vnd.jupyter.widget-view+json": {
       "version_major": 2,
       "version_minor": 0,
       "model_id": "3a1f27c55db14b1cb147ce977f7b5e36"
      }
     },
     "metadata": {},
     "output_type": "display_data"
    }
   ],
   "source": [
    "import ipywidgets as widgets\n",
    "from ipywidgets import GridspecLayout, Image, interact\n",
    "from IPython.display import display\n",
    "\n",
    "# === Affichage des 10 pokémons les plus recommandés (dans l'ordre décroissant) ===\n",
    "# Tri des données par ordre décroissant de la variable 'likeable'\n",
    "df = df.sort_values(by='likeable', ascending=False)\n",
    "\n",
    "# récupération des 10 premiers (non utilisés dans les préférences)\n",
    "df = df[df['preferences'].isnull()].head(10)\n",
    "print(df)\n",
    "\n",
    "# Création du widget d'images\n",
    "layout = GridspecLayout(n_columns=2, n_rows=10, width='400px')\n",
    "for i, pokemon in enumerate(df.iterrows()):\n",
    "    image = open(f\"images/images/{pokemon[1]['name']}.{pokemon[1]['img_type']}\", \"rb\").read()\n",
    "    image_widget = widgets.Image(\n",
    "        value=image,\n",
    "        format='png',\n",
    "        width=100,\n",
    "        height=100,\n",
    "    )\n",
    "    layout[i, 0] = image_widget\n",
    "    # Ajout du nom du pokémon et de son numéro\n",
    "    layout[i, 1] = widgets.Label(value=f\"{pokemon[1]['name']} | {pokemon[0]}\")\n",
    "\n",
    "# Display the layout\n",
    "display(layout)\n"
   ],
   "metadata": {
    "collapsed": false,
    "ExecuteTime": {
     "end_time": "2024-03-25T21:11:48.251169Z",
     "start_time": "2024-03-25T21:11:48.170640Z"
    }
   },
   "id": "a29d6b389b3808c5",
   "execution_count": 7
  },
  {
   "cell_type": "markdown",
   "id": "2746f4fcc153f419",
   "metadata": {
    "collapsed": false
   },
   "source": [
    "# Tests"
   ]
  },
  {
   "cell_type": "markdown",
   "id": "f4f9149e9f60d053",
   "metadata": {
    "collapsed": false
   },
   "source": [
    "pass"
   ]
  }
 ],
 "metadata": {
  "kernelspec": {
   "display_name": "Python 3",
   "language": "python",
   "name": "python3"
  },
  "language_info": {
   "codemirror_mode": {
    "name": "ipython",
    "version": 2
   },
   "file_extension": ".py",
   "mimetype": "text/x-python",
   "name": "python",
   "nbconvert_exporter": "python",
   "pygments_lexer": "ipython2",
   "version": "2.7.6"
  }
 },
 "nbformat": 4,
 "nbformat_minor": 5
}
