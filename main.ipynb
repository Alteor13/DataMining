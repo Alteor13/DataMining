{
 "cells": [
  {
   "cell_type": "markdown",
   "source": [
    "# Collecte de données\n"
   ],
   "metadata": {
    "collapsed": false
   },
   "id": "b53f814bab175db9"
  },
  {
   "cell_type": "code",
   "outputs": [
    {
     "ename": "ValueError",
     "evalue": "must have exactly one of create/read/write/append mode",
     "output_type": "error",
     "traceback": [
      "\u001B[1;31m---------------------------------------------------------------------------\u001B[0m",
      "\u001B[1;31mValueError\u001B[0m                                Traceback (most recent call last)",
      "Cell \u001B[1;32mIn[94], line 3\u001B[0m\n\u001B[0;32m      1\u001B[0m \u001B[38;5;28;01mimport\u001B[39;00m \u001B[38;5;21;01mos\u001B[39;00m\n\u001B[0;32m      2\u001B[0m poke \u001B[38;5;241m=\u001B[39m \u001B[38;5;28mopen\u001B[39m(\u001B[38;5;124m\"\u001B[39m\u001B[38;5;124mimages/pokemon.csv\u001B[39m\u001B[38;5;124m\"\u001B[39m, \u001B[38;5;124m\"\u001B[39m\u001B[38;5;124mr\u001B[39m\u001B[38;5;124m\"\u001B[39m)\n\u001B[1;32m----> 3\u001B[0m donnees \u001B[38;5;241m=\u001B[39m \u001B[38;5;28;43mopen\u001B[39;49m\u001B[43m(\u001B[49m\u001B[38;5;124;43m\"\u001B[39;49m\u001B[38;5;124;43mdonnee.json\u001B[39;49m\u001B[38;5;124;43m\"\u001B[39;49m\u001B[43m,\u001B[49m\u001B[38;5;124;43m'\u001B[39;49m\u001B[38;5;124;43mrw\u001B[39;49m\u001B[38;5;124;43m'\u001B[39;49m\u001B[43m)\u001B[49m\n\u001B[0;32m      4\u001B[0m pokelines \u001B[38;5;241m=\u001B[39m poke\u001B[38;5;241m.\u001B[39mreadlines()\n\u001B[0;32m      6\u001B[0m count \u001B[38;5;241m=\u001B[39m \u001B[38;5;241m0\u001B[39m\n",
      "File \u001B[1;32m~\\Work\\CPE\\S8\\Jupyter_Projects\\venv\\lib\\site-packages\\IPython\\core\\interactiveshell.py:324\u001B[0m, in \u001B[0;36m_modified_open\u001B[1;34m(file, *args, **kwargs)\u001B[0m\n\u001B[0;32m    317\u001B[0m \u001B[38;5;28;01mif\u001B[39;00m file \u001B[38;5;129;01min\u001B[39;00m {\u001B[38;5;241m0\u001B[39m, \u001B[38;5;241m1\u001B[39m, \u001B[38;5;241m2\u001B[39m}:\n\u001B[0;32m    318\u001B[0m     \u001B[38;5;28;01mraise\u001B[39;00m \u001B[38;5;167;01mValueError\u001B[39;00m(\n\u001B[0;32m    319\u001B[0m         \u001B[38;5;124mf\u001B[39m\u001B[38;5;124m\"\u001B[39m\u001B[38;5;124mIPython won\u001B[39m\u001B[38;5;124m'\u001B[39m\u001B[38;5;124mt let you open fd=\u001B[39m\u001B[38;5;132;01m{\u001B[39;00mfile\u001B[38;5;132;01m}\u001B[39;00m\u001B[38;5;124m by default \u001B[39m\u001B[38;5;124m\"\u001B[39m\n\u001B[0;32m    320\u001B[0m         \u001B[38;5;124m\"\u001B[39m\u001B[38;5;124mas it is likely to crash IPython. If you know what you are doing, \u001B[39m\u001B[38;5;124m\"\u001B[39m\n\u001B[0;32m    321\u001B[0m         \u001B[38;5;124m\"\u001B[39m\u001B[38;5;124myou can use builtins\u001B[39m\u001B[38;5;124m'\u001B[39m\u001B[38;5;124m open.\u001B[39m\u001B[38;5;124m\"\u001B[39m\n\u001B[0;32m    322\u001B[0m     )\n\u001B[1;32m--> 324\u001B[0m \u001B[38;5;28;01mreturn\u001B[39;00m io_open(file, \u001B[38;5;241m*\u001B[39margs, \u001B[38;5;241m*\u001B[39m\u001B[38;5;241m*\u001B[39mkwargs)\n",
      "\u001B[1;31mValueError\u001B[0m: must have exactly one of create/read/write/append mode"
     ]
    }
   ],
   "source": [
    "import os\n",
    "poke = open(\"images/pokemon.csv\", \"r\")\n",
    "donnees = open(\"donnee.json\",'w')\n",
    "pokelines = poke.readlines()\n",
    "\n",
    "count = 0\n",
    "for line in pokelines[1:]:\n",
    "    count += 1\n",
    "    donnees.write(str({count : (line.strip().split(','))}) + \"\\n\")\n",
    "poke.close()\n",
    "\n",
    "for im in os.listdir(\"images/images\"):\n",
    "    #Size of the image\n",
    "    size = os.path.getsize(\"images/images/\" + im)/1024\n",
    "    \n",
    "    lines = donnees.readlines()\n",
    "    for numline in lenth(lines):\n",
    "        if donnees(numline)[0] in im:\n",
    "            donnees(numline).append(size)\n",
    "            break"
   ],
   "metadata": {
    "collapsed": false,
    "ExecuteTime": {
     "end_time": "2024-03-06T16:26:02.991668Z",
     "start_time": "2024-03-06T16:26:02.968159Z"
    }
   },
   "id": "4b98227b9e80e29b",
   "execution_count": 94
  },
  {
   "cell_type": "markdown",
   "source": [
    "# Étiquetage et annotation"
   ],
   "metadata": {
    "collapsed": false
   },
   "id": "d477685c7e4ab3f"
  },
  {
   "cell_type": "code",
   "outputs": [],
   "source": [
    "pass"
   ],
   "metadata": {
    "collapsed": false
   },
   "id": "27ebca51dfd316b9"
  },
  {
   "cell_type": "markdown",
   "source": [
    "# Analyses de données"
   ],
   "metadata": {
    "collapsed": false
   },
   "id": "375f82deb57c9b5c"
  },
  {
   "cell_type": "code",
   "outputs": [],
   "source": [
    "pass"
   ],
   "metadata": {
    "collapsed": false
   },
   "id": "57ca297d86d05cd6"
  },
  {
   "cell_type": "markdown",
   "source": [
    "# Visualisation des données"
   ],
   "metadata": {
    "collapsed": false
   },
   "id": "61e4481d2073b6a9"
  },
  {
   "cell_type": "code",
   "outputs": [],
   "source": [
    "pass"
   ],
   "metadata": {
    "collapsed": false
   },
   "id": "eaaaa0d6c0646f8e"
  },
  {
   "cell_type": "markdown",
   "source": [
    "# Système de recommandation"
   ],
   "metadata": {
    "collapsed": false
   },
   "id": "b3fb0877e26f4eb1"
  },
  {
   "cell_type": "code",
   "outputs": [],
   "source": [
    "pass"
   ],
   "metadata": {
    "collapsed": false
   },
   "id": "7ad3a54e1b46e23c"
  },
  {
   "cell_type": "markdown",
   "source": [
    "# Tests"
   ],
   "metadata": {
    "collapsed": false
   },
   "id": "2746f4fcc153f419"
  },
  {
   "cell_type": "markdown",
   "source": [
    "pass"
   ],
   "metadata": {
    "collapsed": false
   },
   "id": "f4f9149e9f60d053"
  }
 ],
 "metadata": {
  "kernelspec": {
   "display_name": "Python 3",
   "language": "python",
   "name": "python3"
  },
  "language_info": {
   "codemirror_mode": {
    "name": "ipython",
    "version": 2
   },
   "file_extension": ".py",
   "mimetype": "text/x-python",
   "name": "python",
   "nbconvert_exporter": "python",
   "pygments_lexer": "ipython2",
   "version": "2.7.6"
  }
 },
 "nbformat": 4,
 "nbformat_minor": 5
}
