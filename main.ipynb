{
 "cells": [
  {
   "cell_type": "markdown",
   "id": "b53f814bab175db9",
   "metadata": {
    "collapsed": false
   },
   "source": [
    "# Collecte de données\n"
   ]
  },
  {
   "cell_type": "code",
   "execution_count": 29,
   "id": "4b98227b9e80e29b",
   "metadata": {
    "collapsed": false,
    "ExecuteTime": {
     "end_time": "2024-03-21T14:50:15.215619Z",
     "start_time": "2024-03-21T14:50:15.197449Z"
    }
   },
   "outputs": [],
   "source": [
    "import os\n",
    "import pandas as pd\n",
    "\n",
    "# === Récupération du type de fichier image associé à chaque pokémon ===\n",
    "lst_files = os.listdir('images/images')\n",
    "lst_files = [f.split('.') for f in lst_files]\n",
    "dico_files = {paire[0]: paire[1] for paire in lst_files}\n",
    "\n",
    "#importation des données depuis un fichier csv\n",
    "with open('images/pokemon.csv', 'r') as csv_file:\n",
    "\n",
    "    # === Pré-traitement des données ===\n",
    "    lines = csv_file.readlines()\n",
    "    lines = lines[1:] #suppression de la première ligne (entête)\n",
    "    \n",
    "    for i,data in enumerate(lines):\n",
    "        data = data.replace('\\n', '')\n",
    "        lines[i] = data.split(',')\n",
    "        if len(lines[i]) == 2: #si le pokémon n'a qu'un seul type\n",
    "            lines[i].append(None) #ajout d'une colonne vide pour le second type\n",
    "        #récupération du type de fichier image associé   \n",
    "        lines[i].append(dico_files[lines[i][0]])\n",
    "        \n",
    "    # === Création d'un DataFrame ===      \n",
    "    df = pd.DataFrame(lines, columns=[\"name\", \"type1\", \"type2\",\"img_type\"])\n",
    "    \n",
    "    csv_file.close()\n",
    "\n",
    "# Export du DataFrame vers un fichier JSON\n",
    "df.to_json('donnees.json',orient='index')"
   ]
  },
  {
   "cell_type": "markdown",
   "id": "d477685c7e4ab3f",
   "metadata": {
    "collapsed": false
   },
   "source": [
    "# Étiquetage et annotation"
   ]
  },
  {
   "cell_type": "code",
   "execution_count": 32,
   "id": "27ebca51dfd316b9",
   "metadata": {
    "collapsed": false,
    "ExecuteTime": {
     "end_time": "2024-03-21T15:17:30.447379Z",
     "start_time": "2024-03-21T15:17:30.290021Z"
    }
   },
   "outputs": [
    {
     "name": "stdout",
     "output_type": "stream",
     "text": [
      "[1.29876374 0.53708791 0.18269231 0.11401099 0.04052198 0.04052198\n",
      " 0.09134615 0.2967033  0.77197802]\n",
      "[142.86764706 157.57352941 171.20588235 177.23529412 181.19117647\n",
      " 182.29411765 173.25       166.98529412 156.63235294]\n",
      "[145.175 144.25  135.925 113.15   89.225  64.05   40.1    24.025  19.45 ]\n",
      "[  4.           7.69444444  20.63888889  35.11111111  63.05555556\n",
      "  94.44444444 115.55555556 141.55555556 146.05555556]\n",
      "[[1456, '#020101'], [68, '#8f9eac'], [40, '#929188'], [36, '#050815']]\n"
     ]
    }
   ],
   "source": [
    "from PIL import Image\n",
    "import numpy\n",
    "import math\n",
    "import matplotlib.pyplot as plot\n",
    "from sklearn.cluster import KMeans\n",
    "\n",
    "imgfile = Image.open(\"images/images/pichu.png\")\n",
    "\n",
    "numarray = numpy.array(imgfile, numpy.uint8)\n",
    "\n",
    "numarray = numarray.reshape(-1, 9)\n",
    "\n",
    "n_clusters = 4\n",
    "clusters = KMeans(n_clusters=n_clusters, n_init=20)\n",
    "clusters.fit(numarray)\n",
    "\n",
    "couleurs = []\n",
    "for i in range(len(clusters.cluster_centers_)):\n",
    "    print(clusters.cluster_centers_[i])\n",
    "    couleurs.append([numpy.sum(clusters.labels_==i),\"#%02x%02x%02x\" % (\n",
    "        math.ceil(clusters.cluster_centers_[i][0]),\n",
    "        math.ceil(clusters.cluster_centers_[i][1]),\n",
    "        math.ceil(clusters.cluster_centers_[i][2]),\n",
    "    )])\n",
    "    \n",
    "print (couleurs)"
   ]
  },
  {
   "cell_type": "markdown",
   "id": "375f82deb57c9b5c",
   "metadata": {
    "collapsed": false
   },
   "source": [
    "# Analyses de données"
   ]
  },
  {
   "cell_type": "code",
   "execution_count": 33,
   "id": "57ca297d86d05cd6",
   "metadata": {
    "collapsed": false,
    "ExecuteTime": {
     "end_time": "2024-03-21T15:18:54.942466Z",
     "start_time": "2024-03-21T15:18:49.599803Z"
    }
   },
   "outputs": [],
   "source": [
    "import tkinter as tk\n",
    "from PIL import Image, ImageTk\n",
    "import os\n",
    "import json\n",
    "import random\n",
    "\n",
    "bouton_jaime = None\n",
    "bouton_jaime_pas = None\n",
    "\n",
    "def afficher_image_aleatoire():\n",
    "    global bouton_jaime, bouton_jaime_pas\n",
    "\n",
    "    with open(\"donnees.json\", \"r\") as f:\n",
    "        donnees = json.load(f)\n",
    "\n",
    "    image_id = str(random.randint(0, len(donnees) - 1))\n",
    "    nom_image = donnees[image_id][\"name\"]\n",
    "    img_type = donnees[image_id][\"img_type\"]\n",
    "\n",
    "    chemin_image = os.path.join(\"images/images\", f\"{nom_image}.{img_type}\")\n",
    "    image = Image.open(chemin_image)\n",
    "    image_tk = ImageTk.PhotoImage(image)\n",
    "\n",
    "    label_image.config(image=image_tk)\n",
    "    label_image.image = image_tk\n",
    "\n",
    "    label_nom_image.config(text=nom_image)\n",
    "\n",
    "    # Supprimer les anciens boutons s'ils existent\n",
    "    if bouton_jaime:\n",
    "        bouton_jaime.destroy()\n",
    "    if bouton_jaime_pas:\n",
    "        bouton_jaime_pas.destroy()\n",
    "\n",
    "    bouton_jaime = tk.Button(root, text=\"J'aime\", command=lambda: action_jaime(image_id))\n",
    "    bouton_jaime_pas = tk.Button(root, text=\"Je n'aime pas\", command=lambda: action_jaime_pas(image_id))\n",
    "\n",
    "    bouton_afficher_image.pack_forget()\n",
    "    bouton_jaime.pack(side=tk.LEFT, padx=5)\n",
    "    bouton_jaime_pas.pack(side=tk.RIGHT, padx=5)\n",
    "\n",
    "def remplacement_bouton():\n",
    "    afficher_image_aleatoire()\n",
    "\n",
    "def action_jaime(image_id):\n",
    "    modifier_preferences(image_id, 1)\n",
    "    afficher_image_aleatoire()\n",
    "\n",
    "def action_jaime_pas(image_id):\n",
    "    modifier_preferences(image_id, -0.5)\n",
    "    afficher_image_aleatoire()\n",
    "\n",
    "def modifier_preferences(image_id, valeur):\n",
    "    with open(\"donnees.json\", \"r+\") as f:\n",
    "        donnees = json.load(f)\n",
    "        donnees[str(image_id)][\"preferences\"] = valeur\n",
    "        f.seek(0)\n",
    "        json.dump(donnees, f, indent=4)\n",
    "        f.truncate()\n",
    "\n",
    "root = tk.Tk()\n",
    "root.title(\"Affichage d'une image aléatoire depuis un fichier JSON\")\n",
    "\n",
    "label_image = tk.Label(root)\n",
    "label_image.pack(padx=10, pady=10)\n",
    "\n",
    "label_nom_image = tk.Label(root, font=(\"Helvetica\", 12))\n",
    "label_nom_image.pack(pady=5)\n",
    "\n",
    "bouton_afficher_image = tk.Button(root, text=\"Afficher une image\", command=remplacement_bouton)\n",
    "bouton_afficher_image.pack(pady=10)\n",
    "\n",
    "root.mainloop()\n"
   ]
  },
  {
   "cell_type": "markdown",
   "id": "61e4481d2073b6a9",
   "metadata": {
    "collapsed": false
   },
   "source": [
    "# Visualisation des données"
   ]
  },
  {
   "cell_type": "code",
   "execution_count": null,
   "id": "eaaaa0d6c0646f8e",
   "metadata": {
    "collapsed": false
   },
   "outputs": [],
   "source": [
    "pass"
   ]
  },
  {
   "cell_type": "markdown",
   "id": "b3fb0877e26f4eb1",
   "metadata": {
    "collapsed": false
   },
   "source": [
    "# Système de recommandation"
   ]
  },
  {
   "cell_type": "code",
   "execution_count": null,
   "id": "7ad3a54e1b46e23c",
   "metadata": {
    "collapsed": false
   },
   "outputs": [],
   "source": [
    "pass"
   ]
  },
  {
   "cell_type": "markdown",
   "id": "2746f4fcc153f419",
   "metadata": {
    "collapsed": false
   },
   "source": [
    "# Tests"
   ]
  },
  {
   "cell_type": "markdown",
   "id": "f4f9149e9f60d053",
   "metadata": {
    "collapsed": false
   },
   "source": [
    "pass"
   ]
  }
 ],
 "metadata": {
  "kernelspec": {
   "display_name": "Python 3",
   "language": "python",
   "name": "python3"
  },
  "language_info": {
   "codemirror_mode": {
    "name": "ipython",
    "version": 2
   },
   "file_extension": ".py",
   "mimetype": "text/x-python",
   "name": "python",
   "nbconvert_exporter": "python",
   "pygments_lexer": "ipython2",
   "version": "2.7.6"
  }
 },
 "nbformat": 4,
 "nbformat_minor": 5
}
