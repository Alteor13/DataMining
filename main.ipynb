{
 "cells": [
  {
   "cell_type": "markdown",
   "id": "b53f814bab175db9",
   "metadata": {
    "collapsed": false
   },
   "source": [
    "# Collecte de données\n"
   ]
  },
  {
   "cell_type": "code",
   "execution_count": 2,
   "id": "4b98227b9e80e29b",
   "metadata": {
    "collapsed": false,
    "ExecuteTime": {
     "end_time": "2024-03-25T07:25:51.432301Z",
     "start_time": "2024-03-25T07:25:51.390285Z"
    }
   },
   "outputs": [],
   "source": [
    "import os\n",
    "import pandas as pd\n",
    "\n",
    "# === Récupération du type de fichier image associé à chaque pokémon ===\n",
    "lst_files = os.listdir('images/images')\n",
    "lst_files = [f.split('.') for f in lst_files]\n",
    "dico_files = {paire[0]: paire[1] for paire in lst_files}\n",
    "\n",
    "#importation des données depuis un fichier csv\n",
    "with open('images/pokemon.csv', 'r') as csv_file:\n",
    "\n",
    "    # === Pré-traitement des données ===\n",
    "    lines = csv_file.readlines()\n",
    "    lines = lines[1:] #suppression de la première ligne (entête)\n",
    "    \n",
    "    for i,data in enumerate(lines):\n",
    "        data = data.replace('\\n', '')\n",
    "        lines[i] = data.split(',')\n",
    "        if len(lines[i]) == 2: #si le pokémon n'a qu'un seul type\n",
    "            lines[i].append(None) #ajout d'une colonne vide pour le second type\n",
    "        #récupération du type de fichier image associé   \n",
    "        lines[i].append(dico_files[lines[i][0]])\n",
    "        \n",
    "    # === Création d'un DataFrame ===      \n",
    "    df = pd.DataFrame(lines, columns=[\"name\", \"type1\", \"type2\",\"img_type\"])\n",
    "    \n",
    "    csv_file.close()\n",
    "\n",
    "# Export du DataFrame vers un fichier JSON\n",
    "df.to_json('donnees.json',orient='index')"
   ]
  },
  {
   "cell_type": "markdown",
   "id": "d477685c7e4ab3f",
   "metadata": {
    "collapsed": false
   },
   "source": [
    "# Étiquetage et annotation"
   ]
  },
  {
   "cell_type": "code",
   "execution_count": 3,
   "id": "27ebca51dfd316b9",
   "metadata": {
    "collapsed": false,
    "ExecuteTime": {
     "end_time": "2024-03-25T07:27:37.661744Z",
     "start_time": "2024-03-25T07:25:53.087741Z"
    }
   },
   "outputs": [],
   "source": [
    "from PIL import Image\n",
    "import numpy\n",
    "import math\n",
    "import pandas as pd\n",
    "from sklearn.cluster import KMeans\n",
    "\n",
    "import Color as color\n",
    "\n",
    "# /!\\ Attention, cette cellule peut prendre plusieurs minutes à s'exécuter\n",
    "\n",
    "# === chargement des données depuis le fichier JSON ===\n",
    "df = pd.read_json('donnees.json', orient='index')\n",
    "#ajout d'une colonne pour les couleurs dominantes\n",
    "df['colors'] = None\n",
    "\n",
    "# === Traitement des données ===\n",
    "for pokemon in df.iterrows():\n",
    "    img = Image.open(f\"images/images/{pokemon[1]['name']}.{pokemon[1]['img_type']}\")\n",
    "    numarray = numpy.array(img, numpy.uint8)\n",
    "    numarray = numarray.reshape(-1, 9)\n",
    "    \n",
    "    # récupération des couleurs dominantes\n",
    "    n_clusters = 5\n",
    "    clusters = KMeans(n_clusters=n_clusters, n_init=20)\n",
    "    clusters.fit(numarray)\n",
    "    \n",
    "    couleurs = []\n",
    "    for i in range(len(clusters.cluster_centers_)):\n",
    "        couleurs.append([numpy.sum(clusters.labels_==i),\"#%02x%02x%02x\" % (\n",
    "            math.ceil(clusters.cluster_centers_[i][0]),\n",
    "            math.ceil(clusters.cluster_centers_[i][1]),\n",
    "            math.ceil(clusters.cluster_centers_[i][2]),\n",
    "        )])\n",
    "    \n",
    "    #filtrage des couleurs de fond (blanc pour jpg, noir pour png)\n",
    "    couleurs = sorted(couleurs, key=lambda x: x[0], reverse=True)\n",
    "    if (pokemon[1]['img_type'] == 'jpg') and (color.is_near(couleurs[0][1], '#ffffff', 5, mode='HEX')):\n",
    "        couleurs.pop(0)\n",
    "    elif (pokemon[1]['img_type'] == 'png') and (color.is_near(couleurs[0][1], '#000000', 5, mode='HEX')):\n",
    "        couleurs.pop(0)\n",
    "    else:\n",
    "        couleurs.pop(-1)\n",
    "        \n",
    "    #Normalisation des valeurs de quantité de couleurs\n",
    "    sum = 0\n",
    "    for paire in couleurs:\n",
    "        sum += paire[0]\n",
    "    for paire in couleurs:\n",
    "        paire[0] = int((paire[0] / sum)* 100)\n",
    "    \n",
    "    # === Ajout des couleurs dominantes au DataFrame ===\n",
    "    df.at[pokemon[0], 'colors'] = couleurs\n",
    "\n",
    "\n",
    "# Export du DataFrame vers le fichier JSON\n",
    "df.to_json('donnees.json',orient='index')"
   ]
  },
  {
   "cell_type": "markdown",
   "id": "375f82deb57c9b5c",
   "metadata": {
    "collapsed": false
   },
   "source": [
    "# Analyses de données"
   ]
  },
  {
   "cell_type": "code",
   "execution_count": 15,
   "id": "57ca297d86d05cd6",
   "metadata": {
    "collapsed": false,
    "ExecuteTime": {
     "end_time": "2024-03-19T10:49:08.742814Z",
     "start_time": "2024-03-19T10:46:59.628875Z"
    }
   },
   "outputs": [],
   "source": [
    "import ipywidgets as widgets\n",
    "from PIL import Image\n",
    "import os\n",
    "import json\n",
    "import random\n",
    "from IPython.display import display\n",
    "\n",
    "bouton_jaime = None\n",
    "bouton_jaime_pas = None\n",
    "\n",
    "def afficher_image_aleatoire(b):\n",
    "    global bouton_jaime, bouton_jaime_pas\n",
    "\n",
    "    with open(\"donnees.json\", \"r\") as f:\n",
    "        donnees = json.load(f)\n",
    "\n",
    "    image_id = str(random.randint(0, len(donnees) - 1))\n",
    "    nom_image = donnees[image_id][\"name\"]\n",
    "    img_type = donnees[image_id][\"img_type\"]\n",
    "\n",
    "    chemin_image = os.path.join(\"images/images\", f\"{nom_image}.{img_type}\")\n",
    "    image = Image.open(chemin_image)\n",
    "\n",
    "    image_widget.value = open(chemin_image, \"rb\").read()\n",
    "\n",
    "    label_nom_image.value = nom_image\n",
    "\n",
    "    # Supprimer les anciens boutons s'ils existent\n",
    "    if bouton_jaime:\n",
    "        bouton_jaime.close()\n",
    "    if bouton_jaime_pas:\n",
    "        bouton_jaime_pas.close()\n",
    "\n",
    "    bouton_jaime = widgets.Button(description=\"J'aime\")\n",
    "    bouton_jaime.on_click(lambda b: action_jaime(image_id))\n",
    "    bouton_jaime_pas = widgets.Button(description=\"Je n'aime pas\")\n",
    "    bouton_jaime_pas.on_click(lambda b: action_jaime_pas(image_id))\n",
    "\n",
    "    display(widgets.HBox([bouton_jaime, bouton_jaime_pas]))\n",
    "\n",
    "def remplacement_bouton(b):\n",
    "    bouton_afficher_image.close()\n",
    "    afficher_image_aleatoire(b)\n",
    "\n",
    "def action_jaime(image_id):\n",
    "    modifier_preferences(image_id, 1)\n",
    "    afficher_image_aleatoire(None)\n",
    "\n",
    "def action_jaime_pas(image_id):\n",
    "    modifier_preferences(image_id, -0.5)\n",
    "    afficher_image_aleatoire(None)\n",
    "\n",
    "def modifier_preferences(image_id, valeur):\n",
    "    with open(\"donnees.json\", \"r+\") as f:\n",
    "        donnees = json.load(f)\n",
    "        donnees[str(image_id)][\"preferences\"] = valeur\n",
    "        f.seek(0)\n",
    "        json.dump(donnees, f, indent=4)\n",
    "        f.truncate()\n",
    "\n",
    "image_widget = widgets.Image(format='png')\n",
    "display(image_widget)\n",
    "\n",
    "label_nom_image = widgets.Label(value=\"\")\n",
    "display(label_nom_image)\n",
    "\n",
    "bouton_afficher_image = widgets.Button(description=\"Afficher une image\")\n",
    "bouton_afficher_image.on_click(remplacement_bouton)\n",
    "display(bouton_afficher_image)\n"
   ]
  },
  {
   "cell_type": "markdown",
   "id": "61e4481d2073b6a9",
   "metadata": {
    "collapsed": false
   },
   "source": [
    "# Visualisation des données"
   ]
  },
  {
   "cell_type": "code",
   "execution_count": null,
   "id": "eaaaa0d6c0646f8e",
   "metadata": {
    "collapsed": false
   },
   "outputs": [],
   "source": [
    "pass"
   ]
  },
  {
   "cell_type": "markdown",
   "id": "b3fb0877e26f4eb1",
   "metadata": {
    "collapsed": false
   },
   "source": [
    "# Système de recommandation"
   ]
  },
  {
   "cell_type": "code",
   "execution_count": null,
   "id": "7ad3a54e1b46e23c",
   "metadata": {
    "collapsed": false
   },
   "outputs": [],
   "source": [
    "pass"
   ]
  },
  {
   "cell_type": "markdown",
   "id": "2746f4fcc153f419",
   "metadata": {
    "collapsed": false
   },
   "source": [
    "# Tests"
   ]
  },
  {
   "cell_type": "markdown",
   "id": "f4f9149e9f60d053",
   "metadata": {
    "collapsed": false
   },
   "source": [
    "pass"
   ]
  }
 ],
 "metadata": {
  "kernelspec": {
   "display_name": "Python 3",
   "language": "python",
   "name": "python3"
  },
  "language_info": {
   "codemirror_mode": {
    "name": "ipython",
    "version": 2
   },
   "file_extension": ".py",
   "mimetype": "text/x-python",
   "name": "python",
   "nbconvert_exporter": "python",
   "pygments_lexer": "ipython2",
   "version": "2.7.6"
  }
 },
 "nbformat": 4,
 "nbformat_minor": 5
}
