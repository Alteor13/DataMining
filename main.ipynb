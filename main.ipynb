{
 "cells": [
  {
   "cell_type": "markdown",
   "id": "b53f814bab175db9",
   "metadata": {
    "collapsed": false
   },
   "source": [
    "# Collecte de données\n"
   ]
  },
  {
   "cell_type": "code",
   "execution_count": 8,
   "id": "4b98227b9e80e29b",
   "metadata": {
    "collapsed": false,
    "ExecuteTime": {
     "end_time": "2024-03-18T09:51:15.102841Z",
     "start_time": "2024-03-18T09:51:11.578078Z"
    }
   },
   "outputs": [],
   "source": [
    "import os\n",
    "import pandas as pd\n",
    "\n",
    "# === Récupération du type de fichier image associé à chaque pokémon ===\n",
    "lst_files = os.listdir('images/images')\n",
    "lst_files = [f.split('.') for f in lst_files]\n",
    "dico_files = {paire[0]: paire[1] for paire in lst_files}\n",
    "\n",
    "#importation des données depuis un fichier csv\n",
    "with open('images/pokemon.csv', 'r') as csv_file:\n",
    "\n",
    "    # === Pré-traitement des données ===\n",
    "    lines = csv_file.readlines()\n",
    "    lines = lines[1:] #suppression de la première ligne (entête)\n",
    "    \n",
    "    for i,data in enumerate(lines):\n",
    "        data = data.replace('\\n', '')\n",
    "        lines[i] = data.split(',')\n",
    "        if len(lines[i]) == 2: #si le pokémon n'a qu'un seul type\n",
    "            lines[i].append(None) #ajout d'une colonne vide pour le second type\n",
    "        #récupération du type de fichier image associé   \n",
    "        lines[i].append(dico_files[lines[i][0]])\n",
    "        \n",
    "    # === Création d'un DataFrame ===      \n",
    "    df = pd.DataFrame(lines, columns=[\"name\", \"type1\", \"type2\",\"img_type\"])\n",
    "    \n",
    "    csv_file.close()\n",
    "\n",
    "# Export du DataFrame vers un fichier JSON\n",
    "df.to_json('donnees.json',orient='index')"
   ]
  },
  {
   "cell_type": "markdown",
   "id": "d477685c7e4ab3f",
   "metadata": {
    "collapsed": false
   },
   "source": [
    "# Étiquetage et annotation"
   ]
  },
  {
   "cell_type": "code",
   "execution_count": null,
   "id": "27ebca51dfd316b9",
   "metadata": {
    "collapsed": false
   },
   "outputs": [],
   "source": [
    "from PIL import Image\n",
    "import numpy\n",
    "import math\n",
    "import matplotlib.pyplot as plot\n",
    "from sklearn.cluster import KMeans\n",
    "\n",
    "imgfile = Image.open(\"images/images/pichu.png\")\n",
    "\n",
    "numarray = numpy.array(imgfile, numpy.uint8)\n",
    "\n",
    "numarray = numarray.reshape(-1, 9)\n",
    "\n",
    "n_clusters = 4\n",
    "clusters = KMeans(n_clusters=n_clusters, n_init=20)\n",
    "clusters.fit(numarray)\n",
    "\n",
    "couleurs = []\n",
    "for i in range(len(clusters.cluster_centers_)):\n",
    "    print(clusters.cluster_centers_[i])\n",
    "    couleurs.append([numpy.sum(clusters.labels_==i),\"#%02x%02x%02x\" % (\n",
    "        math.ceil(clusters.cluster_centers_[i][0]),\n",
    "        math.ceil(clusters.cluster_centers_[i][1]),\n",
    "        math.ceil(clusters.cluster_centers_[i][2]),\n",
    "    )])\n",
    "    \n",
    "print (couleurs)"
   ]
  },
  {
   "cell_type": "markdown",
   "id": "375f82deb57c9b5c",
   "metadata": {
    "collapsed": false
   },
   "source": [
    "# Analyses de données"
   ]
  },
  {
   "cell_type": "code",
   "execution_count": 27,
   "id": "57ca297d86d05cd6",
   "metadata": {
    "collapsed": false,
    "ExecuteTime": {
     "end_time": "2024-03-18T11:04:26.348555Z",
     "start_time": "2024-03-18T11:04:09.901109Z"
    }
   },
   "outputs": [],
   "source": [
    "import tkinter as tk\n",
    "from PIL import Image, ImageTk\n",
    "import os\n",
    "import json\n",
    "import random\n",
    "\n",
    "# Fonction pour charger et afficher une image aléatoire\n",
    "def afficher_image_aleatoire():\n",
    "    # Charger les données à partir du fichier JSON\n",
    "    with open(\"donnees.json\", \"r\") as f:\n",
    "        donnees = json.load(f)\n",
    "\n",
    "    # Sélectionner une image aléatoire\n",
    "    image_id = str(random.randint(0, len(donnees) - 1))\n",
    "    nom_image = donnees[image_id][\"name\"]\n",
    "    img_type = donnees[image_id][\"img_type\"]\n",
    "\n",
    "    # Chemin complet de l'image\n",
    "    chemin_image = os.path.join(\"images/images\", f\"{nom_image}.{img_type}\")\n",
    "\n",
    "    # Chargement de l'image sélectionnée\n",
    "    image = Image.open(chemin_image)\n",
    "\n",
    "    # Conversion de l'image en format compatible avec Tkinter\n",
    "    image_tk = ImageTk.PhotoImage(image)\n",
    "\n",
    "    # Affichage de l'image dans la fenêtre Tkinter\n",
    "    label_image.config(image=image_tk)\n",
    "    label_image.image = image_tk\n",
    "\n",
    "    # Affichage du nom de l'image\n",
    "    label_nom_image.config(text=nom_image)\n",
    "\n",
    "#fonction pour remplacer le bouton \"Afficher une image\" par les boutons \"J'aime\" et \"Je n'aime pas\"\n",
    "def remplacement_bouton():\n",
    "    bouton_afficher_image.pack_forget()\n",
    "    bouton_jaime.pack(side=tk.LEFT, padx=5)\n",
    "    bouton_jaime_pas.pack(side=tk.RIGHT, padx=5)\n",
    "    afficher_image_aleatoire()\n",
    "\n",
    "# Fonction pour les actions \"J'aime\" et \"Je n'aime pas\"\n",
    "def action_jaime():\n",
    "    afficher_image_aleatoire()\n",
    "\n",
    "def action_jaime_pas():\n",
    "    afficher_image_aleatoire()\n",
    "\n",
    "# Création de la fenêtre principale\n",
    "root = tk.Tk()\n",
    "root.title(\"Affichage d'une image aléatoire depuis un fichier JSON\")\n",
    "\n",
    "# Création d'une étiquette pour afficher l'image\n",
    "label_image = tk.Label(root)\n",
    "label_image.pack(padx=10, pady=10)\n",
    "\n",
    "# Création d'une étiquette pour afficher le nom de l'image\n",
    "label_nom_image = tk.Label(root, font=(\"Helvetica\", 12))\n",
    "label_nom_image.pack(pady=5)\n",
    "\n",
    "# Création de deux boutons pour \"J'aime\" et \"Je n'aime pas\"\n",
    "bouton_jaime = tk.Button(root, text=\"J'aime\", command=action_jaime)\n",
    "bouton_jaime_pas = tk.Button(root, text=\"Je n'aime pas\", command=action_jaime_pas)\n",
    "\n",
    "# Création d'un bouton pour afficher une nouvelle image\n",
    "bouton_afficher_image = tk.Button(root, text=\"Afficher une image\", command=remplacement_bouton)\n",
    "bouton_afficher_image.pack(pady=10)\n",
    "\n",
    "# Boucle principale\n",
    "root.mainloop()\n"
   ]
  },
  {
   "cell_type": "markdown",
   "id": "61e4481d2073b6a9",
   "metadata": {
    "collapsed": false
   },
   "source": [
    "# Visualisation des données"
   ]
  },
  {
   "cell_type": "code",
   "execution_count": null,
   "id": "eaaaa0d6c0646f8e",
   "metadata": {
    "collapsed": false
   },
   "outputs": [],
   "source": [
    "pass"
   ]
  },
  {
   "cell_type": "markdown",
   "id": "b3fb0877e26f4eb1",
   "metadata": {
    "collapsed": false
   },
   "source": [
    "# Système de recommandation"
   ]
  },
  {
   "cell_type": "code",
   "execution_count": null,
   "id": "7ad3a54e1b46e23c",
   "metadata": {
    "collapsed": false
   },
   "outputs": [],
   "source": [
    "pass"
   ]
  },
  {
   "cell_type": "markdown",
   "id": "2746f4fcc153f419",
   "metadata": {
    "collapsed": false
   },
   "source": [
    "# Tests"
   ]
  },
  {
   "cell_type": "markdown",
   "id": "f4f9149e9f60d053",
   "metadata": {
    "collapsed": false
   },
   "source": [
    "pass"
   ]
  }
 ],
 "metadata": {
  "kernelspec": {
   "display_name": "Python 3",
   "language": "python",
   "name": "python3"
  },
  "language_info": {
   "codemirror_mode": {
    "name": "ipython",
    "version": 2
   },
   "file_extension": ".py",
   "mimetype": "text/x-python",
   "name": "python",
   "nbconvert_exporter": "python",
   "pygments_lexer": "ipython2",
   "version": "2.7.6"
  }
 },
 "nbformat": 4,
 "nbformat_minor": 5
}
