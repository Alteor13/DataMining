{
 "cells": [
  {
   "cell_type": "markdown",
   "id": "b53f814bab175db9",
   "metadata": {
    "collapsed": false
   },
   "source": [
    "# Collecte de données\n"
   ]
  },
  {
   "cell_type": "code",
   "execution_count": 2,
   "id": "4b98227b9e80e29b",
   "metadata": {
    "ExecuteTime": {
     "end_time": "2024-03-25T07:25:51.432301Z",
     "start_time": "2024-03-25T07:25:51.390285Z"
    },
    "collapsed": false
   },
   "outputs": [],
   "source": [
    "import os\n",
    "import pandas as pd\n",
    "\n",
    "# === Récupération du type de fichier image associé à chaque pokémon ===\n",
    "lst_files = os.listdir('images/images')\n",
    "lst_files = [f.split('.') for f in lst_files]\n",
    "dico_files = {paire[0]: paire[1] for paire in lst_files}\n",
    "\n",
    "#importation des données depuis un fichier csv\n",
    "with open('images/pokemon.csv', 'r') as csv_file:\n",
    "\n",
    "    # === Pré-traitement des données ===\n",
    "    lines = csv_file.readlines()\n",
    "    lines = lines[1:] #suppression de la première ligne (entête)\n",
    "    \n",
    "    for i,data in enumerate(lines):\n",
    "        data = data.replace('\\n', '')\n",
    "        lines[i] = data.split(',')\n",
    "        if len(lines[i]) == 2: #si le pokémon n'a qu'un seul type\n",
    "            lines[i].append(None) #ajout d'une colonne vide pour le second type\n",
    "        #récupération du type de fichier image associé   \n",
    "        lines[i].append(dico_files[lines[i][0]])\n",
    "        \n",
    "    # === Création d'un DataFrame ===      \n",
    "    df = pd.DataFrame(lines, columns=[\"name\", \"type1\", \"type2\",\"img_type\"])\n",
    "    \n",
    "    csv_file.close()\n",
    "\n",
    "# Export du DataFrame vers un fichier JSON\n",
    "df.to_json('donnees.json',orient='index')"
   ]
  },
  {
   "cell_type": "markdown",
   "id": "d477685c7e4ab3f",
   "metadata": {
    "collapsed": false
   },
   "source": [
    "# Étiquetage et annotation"
   ]
  },
  {
   "cell_type": "code",
   "execution_count": 32,
   "id": "27ebca51dfd316b9",
   "metadata": {
    "ExecuteTime": {
     "end_time": "2024-03-25T08:56:47.855675Z",
     "start_time": "2024-03-25T08:54:50.237030Z"
    },
    "collapsed": false
   },
   "outputs": [],
   "source": [
    "from PIL import Image\n",
    "import numpy\n",
    "import math\n",
    "import pandas as pd\n",
    "from sklearn.cluster import KMeans\n",
    "\n",
    "import Color as color\n",
    "\n",
    "# /!\\ Attention, cette cellule peut prendre plusieurs minutes à s'exécuter\n",
    "\n",
    "# === chargement des données depuis le fichier JSON ===\n",
    "df = pd.read_json('donnees.json', orient='index')\n",
    "#ajout d'une colonne pour les couleurs dominantes\n",
    "df['colors'] = None\n",
    "\n",
    "# === Traitement des données ===\n",
    "for pokemon in df.iterrows():\n",
    "    img = Image.open(f\"images/images/{pokemon[1]['name']}.{pokemon[1]['img_type']}\")\n",
    "    numarray = numpy.array(img, numpy.uint8)\n",
    "    numarray = numarray.reshape(-1, 9)\n",
    "\n",
    "    # récupération des couleurs dominantes\n",
    "    n_clusters = 5\n",
    "    clusters = KMeans(n_clusters=n_clusters, n_init=20)\n",
    "    clusters.fit(numarray)\n",
    "\n",
    "    couleurs = []\n",
    "    for i in range(len(clusters.cluster_centers_)):\n",
    "        couleurs.append([numpy.sum(clusters.labels_==i),\"#%02x%02x%02x\" % (\n",
    "            math.ceil(clusters.cluster_centers_[i][0]),\n",
    "            math.ceil(clusters.cluster_centers_[i][1]),\n",
    "            math.ceil(clusters.cluster_centers_[i][2]),\n",
    "        )])\n",
    "    \n",
    "    #filtrage des couleurs de fond (blanc pour jpg, noir pour png)\n",
    "    couleurs = sorted(couleurs, key=lambda x: x[0], reverse=True)\n",
    "    if (pokemon[1]['img_type'] == 'jpg') and (color.is_near(couleurs[0][1], '#ffffff', 5, mode='HEX')):\n",
    "        couleurs.pop(0)\n",
    "    elif (pokemon[1]['img_type'] == 'png') and (color.is_near(couleurs[0][1], '#000000', 5, mode='HEX')):\n",
    "        couleurs.pop(0)\n",
    "    else:\n",
    "        couleurs.pop(-1)\n",
    "\n",
    "    #Normalisation des valeurs de quantité de couleurs\n",
    "    sum = 0\n",
    "    for paire in couleurs:\n",
    "        sum += paire[0]\n",
    "    for paire in couleurs:\n",
    "        paire[0] = int((paire[0] / sum)* 100)\n",
    "\n",
    "    # === Ajout des couleurs dominantes au DataFrame ===\n",
    "    df.at[pokemon[0], 'colors'] = couleurs\n",
    "\n",
    "\n",
    "# Export du DataFrame vers le fichier JSON\n",
    "df.to_json('donnees.json',orient='index')"
   ]
  },
  {
   "cell_type": "markdown",
   "id": "4933977b4939df04",
   "metadata": {
    "collapsed": false
   },
   "source": [
    "# Analyses de données\n"
   ]
  },
  {
   "cell_type": "code",
   "execution_count": 9,
   "id": "6faf59222811c17d",
   "metadata": {
    "ExecuteTime": {
     "end_time": "2024-03-25T10:03:11.105114Z",
     "start_time": "2024-03-25T10:03:10.448766Z"
    },
    "collapsed": false
   },
   "outputs": [
    {
     "data": {
      "application/vnd.jupyter.widget-view+json": {
       "model_id": "0d03eb2ab2614811b871a82be0212061",
       "version_major": 2,
       "version_minor": 0
      },
      "text/plain": [
       "GridspecLayout(children=(Image(value=b'\\x89PNG\\r\\n\\x1a\\n\\x00\\x00\\x00\\rIHDR\\x00\\x00\\x00x\\x00\\x00\\x00x\\x08\\x03\\x…"
      ]
     },
     "metadata": {},
     "output_type": "display_data"
    },
    {
     "data": {
      "application/vnd.jupyter.widget-view+json": {
       "model_id": "2a3c59cf693c4658b1d1d42580cedf0a",
       "version_major": 2,
       "version_minor": 0
      },
      "text/plain": [
       "Button(description='Select', style=ButtonStyle())"
      ]
     },
     "metadata": {},
     "output_type": "display_data"
    },
    {
     "data": {
      "application/vnd.jupyter.widget-view+json": {
       "model_id": "571d60f1d2bf414db55b455ac15aedad",
       "version_major": 2,
       "version_minor": 0
      },
      "text/plain": [
       "Output()"
      ]
     },
     "metadata": {},
     "output_type": "display_data"
    }
   ],
   "source": [
    "import ipywidgets as widgets\n",
    "from ipywidgets import GridspecLayout, Image, interact\n",
    "import random\n",
    "from IPython.display import display\n",
    "import pandas as pd\n",
    "\n",
    "# === chargement des données depuis le fichier JSON ===\n",
    "df = pd.read_json('donnees.json', orient='index')\n",
    "#ajout d'une colonne pour la variable de préférence\n",
    "df['preferences'] = None\n",
    "\n",
    "\n",
    "# Function to get selected images\n",
    "def get_selected_images(btn):\n",
    "    # Récupération des identifiants des images sélectionnées\n",
    "    selected_ids = [list_id[i] for i, checkbox in enumerate(checkboxes) if checkbox.value]\n",
    "    # traitement des préférences\n",
    "    with output:\n",
    "        output.clear_output()\n",
    "        for id in list_id:\n",
    "            if id in selected_ids:\n",
    "                preferences(id, 2)  # Appel de la fonction preferences avec la valeur 1\n",
    "            else:\n",
    "                preferences(id, -1)  # Appel de la fonction preferences avec la valeur -0.5\n",
    "        \n",
    "        # enregistrement du DataFrame dans le fichier JSON\n",
    "        print(\"Données enregistrés dans le fichier JSON\")\n",
    "        df.to_json('donnees.json',orient='index')\n",
    "        \n",
    "    \n",
    "    \n",
    "def preferences(image_id, valeur):\n",
    "    # Mise à jour de la variable de préférence\n",
    "    df.at[image_id, 'preferences'] = valeur\n",
    "    \n",
    "\n",
    "\n",
    "list_id = []\n",
    "# liste d'identifiants d'images aléatoires (pas de doublons)\n",
    "while len(list_id) < 50:\n",
    "    id = random.randint(0, len(df) - 1)\n",
    "    if id not in list_id:\n",
    "        list_id.append(id)\n",
    "               \n",
    "    \n",
    "checkboxes = [widgets.Checkbox(value=False, description='Aime') for _ in range(len(list_id))]\n",
    "\n",
    "# Create the GridspecLayout widget\n",
    "layout = GridspecLayout(n_columns=2, n_rows=len(list_id), width='400px')\n",
    "for i, (id, checkbox) in enumerate(zip(list_id, checkboxes)):\n",
    "    image = open(f\"images/images/{df.iloc[id]['name']}.{df.iloc[id]['img_type']}\", \"rb\").read()\n",
    "    image_widget = widgets.Image(\n",
    "        value=image,\n",
    "        format='png',\n",
    "        width=100,\n",
    "        height=100,\n",
    "    )\n",
    "    layout[i,0] = image_widget\n",
    "    layout[i, 1] = checkbox\n",
    "\n",
    "# Button to get selected images\n",
    "button_select = widgets.Button(description=\"Select\")\n",
    "\n",
    "# Output widget to display selected images\n",
    "output = widgets.Output()\n",
    "\n",
    "\n",
    "# Link button click event to function\n",
    "button_select.on_click(get_selected_images)\n",
    "\n",
    "# Display the layout and button\n",
    "display(layout, button_select, output)\n"
   ]
  },
  {
   "cell_type": "markdown",
   "id": "61e4481d2073b6a9",
   "metadata": {
    "collapsed": false
   },
   "source": [
    "# Visualisation des données"
   ]
  },
  {
   "cell_type": "code",
   "execution_count": 2,
   "id": "eaaaa0d6c0646f8e",
   "metadata": {
    "collapsed": false,
    "ExecuteTime": {
     "end_time": "2024-03-25T18:29:08.049840Z",
     "start_time": "2024-03-25T18:29:04.045633Z"
    }
   },
   "outputs": [
    {
     "data": {
      "text/plain": "<matplotlib.legend.Legend at 0x1df4de083d0>"
     },
     "execution_count": 2,
     "metadata": {},
     "output_type": "execute_result"
    },
    {
     "data": {
      "text/plain": "<Figure size 1200x1000 with 4 Axes>",
      "image/png": "[encoded data removed]"
     },
     "metadata": {},
     "output_type": "display_data"
    }
   ],
   "source": [
    "from PIL import Image\n",
    "import matplotlib.pyplot as plt\n",
    "import pandas as pd\n",
    "\n",
    "import Color as color\n",
    "\n",
    "# === chargement des données depuis le fichier JSON ===\n",
    "df = pd.read_json('donnees.json', orient='index')\n",
    "\n",
    "# === récupération des données à visualiser ===\n",
    "# liste de couleurs de référence\n",
    "lst_color_names = color.name_list()\n",
    "\n",
    "# liste de types de pokémon\n",
    "lst_types = df['type1'].unique()\n",
    "\n",
    "# dico de statistiques pour les couleurs\n",
    "stats_couleurs_generals = {}\n",
    "stats_couleurs_preferences_plus = {}\n",
    "stats_couleurs_preferences_moins = {}\n",
    "# initialisation\n",
    "for val in lst_color_names:\n",
    "    stats_couleurs_generals[val] = 0\n",
    "    stats_couleurs_preferences_plus[val] = 0\n",
    "    stats_couleurs_preferences_moins[val] = 0\n",
    "\n",
    "# dico de statistiques pour les types\n",
    "stats_types_generals = {}\n",
    "stats_types_preferences_plus = {}\n",
    "stats_types_preferences_moins = {}\n",
    "# initialisation\n",
    "for val in lst_types:\n",
    "    stats_types_generals[val] = 0\n",
    "    stats_types_preferences_plus[val] = 0\n",
    "    stats_types_preferences_moins[val] = 0\n",
    "\n",
    "\n",
    "# Boucle de construction des statistiques\n",
    "for pokemon in df.iterrows():\n",
    "    # == statistiques des types ==\n",
    "    # pour les statistiques générales\n",
    "    stats_types_generals[pokemon[1]['type1']] += 1\n",
    "    # pour les statistiques des images choisies pour les préférences\n",
    "    if pokemon[1]['preferences'] == 2:\n",
    "        stats_types_preferences_plus[pokemon[1]['type1']] += 1\n",
    "    # pour les statistiques des images non choisies pour les préférences\n",
    "    elif pokemon[1]['preferences'] == -1:\n",
    "        stats_types_preferences_moins[pokemon[1]['type1']] += 1\n",
    "\n",
    "    if pokemon[1]['type2'] is not None:\n",
    "        # pour les statistiques générales\n",
    "        stats_types_generals[pokemon[1]['type2']] += 1\n",
    "        # pour les statistiques des images choisies pour les préférences\n",
    "        if pokemon[1]['preferences'] == 2:\n",
    "            stats_types_preferences_plus[pokemon[1]['type2']] += 1\n",
    "        # pour les statistiques des images non choisies pour les préférences\n",
    "        elif pokemon[1]['preferences'] == -1:\n",
    "            stats_types_preferences_moins[pokemon[1]['type2']] += 1\n",
    "\n",
    "\n",
    "    # == statistiques des couleurs ==\n",
    "    for pair in pokemon[1]['colors']:\n",
    "        hsv = color.hex_to_hsv(pair[1])\n",
    "        couleur = color.get_color_name(hsv)\n",
    "        # pour les statistiques générales\n",
    "        stats_couleurs_generals[couleur] += 1\n",
    "        # pour les statistiques des images choisies pour les préférences\n",
    "        if pokemon[1]['preferences'] == 2:\n",
    "            stats_couleurs_preferences_plus[couleur] += 1\n",
    "        # pour les statistiques des images non choisies pour les préférences\n",
    "        elif pokemon[1]['preferences'] == -1:\n",
    "            stats_couleurs_preferences_moins[couleur] += 1\n",
    "\n",
    "\n",
    "# === Affichage des statistiques ===\n",
    "fig, axs = plt.subplots(2, 2, figsize=(12, 10))\n",
    "\n",
    "# Graphique 1 : stats_couleurs_generals\n",
    "axs[0, 0].barh(list(stats_couleurs_generals.keys()), list(stats_couleurs_generals.values()))\n",
    "axs[0, 0].set_title('Présences des couleurs (dataset General)')\n",
    "\n",
    "# Graphique 2 : stats_couleurs_preferences_plus et stats_couleurs_preferences_moins\n",
    "keys = list(stats_couleurs_preferences_plus.keys())\n",
    "values_plus = list(stats_couleurs_preferences_plus.values())\n",
    "values_moins = [-val for val in stats_couleurs_preferences_moins.values()]  # Valeurs négatives\n",
    "axs[0, 1].barh(keys, values_moins, color='red', label='Pas aimé')\n",
    "axs[0, 1].barh(keys, values_plus, color='green', label='Aimé')  # Utilisation de 'left' pour spécifier le point de départ\n",
    "axs[0, 1].set_title('Présences des couleurs (données présélectionnées)')\n",
    "axs[0, 1].legend()\n",
    "\n",
    "# Graphique 3 : stats_types_generals\n",
    "axs[1, 0].barh(list(stats_types_generals.keys()), list(stats_types_generals.values()))\n",
    "axs[1, 0].set_title('Types des pokemons (dataset General)')\n",
    "\n",
    "# Graphique 4 : stats_types_preferences_plus et stats_types_preferences_moins\n",
    "keys = list(stats_types_preferences_plus.keys())\n",
    "values_plus = list(stats_types_preferences_plus.values())\n",
    "values_moins = [-val for val in stats_types_preferences_moins.values()]  # Valeurs négatives\n",
    "axs[1, 1].barh(keys, values_moins, color='red', label='Pas aimé')\n",
    "axs[1, 1].barh(keys, values_plus, color='green', label='Aimé')  # Utilisation de 'left' pour spécifier le point de départ\n",
    "axs[1, 1].set_title('Types des pokemons (données présélectionnées)')\n",
    "axs[1, 1].legend()"
   ]
  },
  {
   "cell_type": "markdown",
   "id": "b3fb0877e26f4eb1",
   "metadata": {
    "collapsed": false
   },
   "source": [
    "# Système de recommandation\n"
   ]
  },
  {
   "cell_type": "code",
   "outputs": [
    {
     "ename": "SyntaxError",
     "evalue": "incomplete input (1975239794.py, line 56)",
     "output_type": "error",
     "traceback": [
      "\u001B[1;36m  Cell \u001B[1;32mIn[36], line 56\u001B[1;36m\u001B[0m\n\u001B[1;33m    df.to_json('donnees.json',orient='index'\u001B[0m\n\u001B[1;37m                                            ^\u001B[0m\n\u001B[1;31mSyntaxError\u001B[0m\u001B[1;31m:\u001B[0m incomplete input\n"
     ]
    }
   ],
   "source": [
    "import pandas as pd\n",
    "import Color as color\n",
    "\n",
    "# === chargement des données depuis le fichier JSON ===\n",
    "df = pd.read_json('donnees.json', orient='index')\n",
    "\n",
    "# Calcule et renvoie la similarite des types de deux pokemons\n",
    "def type_similarity(pok1, pok2):\n",
    "\n",
    "    # Definition de deux sets regroupants les types de deux pokemons\n",
    "    set1 = set([pok1['type1'], pok1['type2'] if 'type2' in pok1 else None])\n",
    "    set2 = set([pok2['type1'], pok2['type2'] if 'type2' in pok2 else None])\n",
    "\n",
    "    # Calcul de la similarite\n",
    "    similarity = 0.15\n",
    "    if set1.isdisjoint(set2):\n",
    "        similarity -= 0.20\n",
    "    return similarity\n",
    "\n",
    "# Calcule la similarite entre les couleurs dominantes de deux pokemons\n",
    "def color_similarity (pok1,pok2):\n",
    "\n",
    "    # Creation de deux sets regroupants les couleurs principales de deux pokemons\n",
    "    set1 = {pok1['colors'][0][1], pok1['colors'][1][1], pok1['colors'][2][1], pok1['colors'][3][1]}\n",
    "    set2 = {pok2['colors'][0][1], pok2['colors'][1][1], pok2['colors'][2][1], pok2['colors'][3][1]}\n",
    "\n",
    "    # Verification de la similarite des couleurs grace a is_near()\n",
    "    list_bool = []\n",
    "    for color1 in set1 :\n",
    "        for color2 in set2 :\n",
    "            sim_bool = color.is_near(color1,color2,5,\"HEX\")\n",
    "            list_bool.append(sim_bool)\n",
    "\n",
    "    # Calcule et renvoie l'indice de similarite\n",
    "    similarity = 0.05*list_bool.count(True) - 0.05\n",
    "    return similarity\n",
    "\n",
    "# Creation d'une liste contenant tous les pokemons notes auparavant\n",
    "list_pok_notes = []\n",
    "for id, pok in df.iterrows():\n",
    "    if isinstance(pok['preferences'],float):\n",
    "        list_pok_notes.append(id)\n",
    "\n",
    "# Traitement des pokemons notes pour ajuster les notes du reste des pokemons\n",
    "# en fonction des criteres d'appreciation detectes\n",
    "for id1 in list_pok_notes:\n",
    "    for id2, pokemon2 in df.iterrows():\n",
    "        if id1 != id2 :\n",
    "            similarity_type = type_similarity(df.loc[id1], pokemon2)\n",
    "            similarity_color = color_similarity(df.loc[id1], pokemon2)\n",
    "            if not isinstance(pokemon2['preferences'],float):\n",
    "                print(id2)\n",
    "                pokemon2['preferences'] = 0\n",
    "            pokemon2['preferences'] += similarity_type + similarity_color + 0.025\n",
    "\n",
    "df.to_json('donnees.json',orient='index'"
   ],
   "metadata": {
    "collapsed": false,
    "ExecuteTime": {
     "end_time": "2024-03-25T18:39:07.324914Z",
     "start_time": "2024-03-25T18:39:07.303117Z"
    }
   },
   "id": "7ab3d724e9b536e8",
   "execution_count": 36
  },
  {
   "cell_type": "code",
   "outputs": [],
   "source": [
    "import pandas as pd\n",
    "import Color as color\n",
    "\n",
    "# Chargement des données depuis le fichier JSON\n",
    "df = pd.read_json('donnees.json', orient='index')\n",
    "\n",
    "# Calcule et renvoie la similarité des types de deux pokemons\n",
    "def type_similarity(pok1, pok2):\n",
    "    set1 = {pok1['type1'], pok1['type2'] if 'type2' in pok1 else None}\n",
    "    set2 = {pok2['type1'], pok2['type2'] if 'type2' in pok2 else None}\n",
    "    similarity = 0.15\n",
    "    if set1.isdisjoint(set2):\n",
    "        similarity -= 0.20\n",
    "    return similarity\n",
    "\n",
    "# Calcule la similarite entre les couleurs dominantes de deux pokemons\n",
    "def color_similarity(pok1, pok2):\n",
    "    set1 = {pok1['colors'][0][1], pok1['colors'][1][1], pok1['colors'][2][1], pok1['colors'][3][1]}\n",
    "    set2 = {pok2['colors'][0][1], pok2['colors'][1][1], pok2['colors'][2][1], pok2['colors'][3][1]}\n",
    "    list_bool = []\n",
    "    for color1 in set1:\n",
    "        for color2 in set2:\n",
    "            sim_bool = color.is_near(color1, color2, 5, \"HEX\")\n",
    "            list_bool.append(sim_bool)\n",
    "    similarity = 0.05 * list_bool.count(True) - 0.05\n",
    "    return similarity\n",
    "\n",
    "# Liste des pokemons déjà notés\n",
    "list_pok_notes = []\n",
    "for id, pok in df.iterrows():\n",
    "    if not isinstance(pok['preferences'], float):\n",
    "        list_pok_notes.append(id)\n",
    "\n",
    "# Traitement des pokemons déjà notés pour ajuster les notes du reste des pokemons\n",
    "for id1 in list_pok_notes:\n",
    "    for id2, pokemon2 in df.iterrows():\n",
    "        if id1 != id2:\n",
    "            similarity_type = type_similarity(df.loc[id1], pokemon2)\n",
    "            similarity_color = color_similarity(df.loc[id1], pokemon2)\n",
    "            if not isinstance(pokemon2['preferences'], float):\n",
    "                df.at[id2, 'preferences'] = 0\n",
    "            df.at[id2, 'preferences'] += similarity_type + similarity_color + 0.025\n",
    "\n",
    "# Écriture des données modifiées dans le fichier JSON\n",
    "df.to_json('donnees.json', orient='index')\n"
   ],
   "metadata": {
    "collapsed": false,
    "ExecuteTime": {
     "end_time": "2024-03-25T18:37:46.677172Z",
     "start_time": "2024-03-25T18:37:46.612171Z"
    }
   },
   "id": "f4eb25d30df14d4d",
   "execution_count": 35
  },
  {
   "cell_type": "markdown",
   "id": "2746f4fcc153f419",
   "metadata": {
    "collapsed": false
   },
   "source": [
    "# Tests"
   ]
  },
  {
   "cell_type": "markdown",
   "id": "f4f9149e9f60d053",
   "metadata": {
    "collapsed": false
   },
   "source": [
    "pass"
   ]
  }
 ],
 "metadata": {
  "kernelspec": {
   "display_name": "Python 3",
   "language": "python",
   "name": "python3"
  },
  "language_info": {
   "codemirror_mode": {
    "name": "ipython",
    "version": 2
   },
   "file_extension": ".py",
   "mimetype": "text/x-python",
   "name": "python",
   "nbconvert_exporter": "python",
   "pygments_lexer": "ipython2",
   "version": "2.7.6"
  }
 },
 "nbformat": 4,
 "nbformat_minor": 5
}
